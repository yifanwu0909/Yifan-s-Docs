{
  "nbformat": 4,
  "nbformat_minor": 0,
  "metadata": {
    "colab": {
      "provenance": [],
      "mount_file_id": "1gRN82nlbadQj4VCF4Ib5c0RAUKhBpbWS",
      "authorship_tag": "ABX9TyO1VDO0kh0fdnbWAnAkVliE",
      "include_colab_link": true
    },
    "kernelspec": {
      "name": "python3",
      "display_name": "Python 3"
    },
    "language_info": {
      "name": "python"
    },
    "widgets": {
      "application/vnd.jupyter.widget-state+json": {
        "cd4da867b21649eab062750137ca3696": {
          "model_module": "@jupyter-widgets/controls",
          "model_name": "HBoxModel",
          "model_module_version": "1.5.0",
          "state": {
            "_dom_classes": [],
            "_model_module": "@jupyter-widgets/controls",
            "_model_module_version": "1.5.0",
            "_model_name": "HBoxModel",
            "_view_count": null,
            "_view_module": "@jupyter-widgets/controls",
            "_view_module_version": "1.5.0",
            "_view_name": "HBoxView",
            "box_style": "",
            "children": [
              "IPY_MODEL_8718c3563e0041709bf7b4c33d844883",
              "IPY_MODEL_3047972f4b774bb6bf65f74963f90816",
              "IPY_MODEL_f3cc47e629cc4b30891c096e9f70c643"
            ],
            "layout": "IPY_MODEL_707679c695124c2397293e1c59991fc8"
          }
        },
        "8718c3563e0041709bf7b4c33d844883": {
          "model_module": "@jupyter-widgets/controls",
          "model_name": "HTMLModel",
          "model_module_version": "1.5.0",
          "state": {
            "_dom_classes": [],
            "_model_module": "@jupyter-widgets/controls",
            "_model_module_version": "1.5.0",
            "_model_name": "HTMLModel",
            "_view_count": null,
            "_view_module": "@jupyter-widgets/controls",
            "_view_module_version": "1.5.0",
            "_view_name": "HTMLView",
            "description": "",
            "description_tooltip": null,
            "layout": "IPY_MODEL_c6209706c3fb45b1b1553070bea026dc",
            "placeholder": "​",
            "style": "IPY_MODEL_9661b02fc1af4cf1a4e0e978d6f4de74",
            "value": "100%"
          }
        },
        "3047972f4b774bb6bf65f74963f90816": {
          "model_module": "@jupyter-widgets/controls",
          "model_name": "FloatProgressModel",
          "model_module_version": "1.5.0",
          "state": {
            "_dom_classes": [],
            "_model_module": "@jupyter-widgets/controls",
            "_model_module_version": "1.5.0",
            "_model_name": "FloatProgressModel",
            "_view_count": null,
            "_view_module": "@jupyter-widgets/controls",
            "_view_module_version": "1.5.0",
            "_view_name": "ProgressView",
            "bar_style": "success",
            "description": "",
            "description_tooltip": null,
            "layout": "IPY_MODEL_9eef03528a9242cda497487293ef9b9d",
            "max": 3,
            "min": 0,
            "orientation": "horizontal",
            "style": "IPY_MODEL_24d411e7b13c41c3b8dd80b6b0b7a1c0",
            "value": 3
          }
        },
        "f3cc47e629cc4b30891c096e9f70c643": {
          "model_module": "@jupyter-widgets/controls",
          "model_name": "HTMLModel",
          "model_module_version": "1.5.0",
          "state": {
            "_dom_classes": [],
            "_model_module": "@jupyter-widgets/controls",
            "_model_module_version": "1.5.0",
            "_model_name": "HTMLModel",
            "_view_count": null,
            "_view_module": "@jupyter-widgets/controls",
            "_view_module_version": "1.5.0",
            "_view_name": "HTMLView",
            "description": "",
            "description_tooltip": null,
            "layout": "IPY_MODEL_8e099eccd74a423596b899490c5c47ef",
            "placeholder": "​",
            "style": "IPY_MODEL_88b9370604ed4d088a2079f9ff3a3113",
            "value": " 3/3 [00:00&lt;00:00, 39.82it/s]"
          }
        },
        "707679c695124c2397293e1c59991fc8": {
          "model_module": "@jupyter-widgets/base",
          "model_name": "LayoutModel",
          "model_module_version": "1.2.0",
          "state": {
            "_model_module": "@jupyter-widgets/base",
            "_model_module_version": "1.2.0",
            "_model_name": "LayoutModel",
            "_view_count": null,
            "_view_module": "@jupyter-widgets/base",
            "_view_module_version": "1.2.0",
            "_view_name": "LayoutView",
            "align_content": null,
            "align_items": null,
            "align_self": null,
            "border": null,
            "bottom": null,
            "display": null,
            "flex": null,
            "flex_flow": null,
            "grid_area": null,
            "grid_auto_columns": null,
            "grid_auto_flow": null,
            "grid_auto_rows": null,
            "grid_column": null,
            "grid_gap": null,
            "grid_row": null,
            "grid_template_areas": null,
            "grid_template_columns": null,
            "grid_template_rows": null,
            "height": null,
            "justify_content": null,
            "justify_items": null,
            "left": null,
            "margin": null,
            "max_height": null,
            "max_width": null,
            "min_height": null,
            "min_width": null,
            "object_fit": null,
            "object_position": null,
            "order": null,
            "overflow": null,
            "overflow_x": null,
            "overflow_y": null,
            "padding": null,
            "right": null,
            "top": null,
            "visibility": null,
            "width": null
          }
        },
        "c6209706c3fb45b1b1553070bea026dc": {
          "model_module": "@jupyter-widgets/base",
          "model_name": "LayoutModel",
          "model_module_version": "1.2.0",
          "state": {
            "_model_module": "@jupyter-widgets/base",
            "_model_module_version": "1.2.0",
            "_model_name": "LayoutModel",
            "_view_count": null,
            "_view_module": "@jupyter-widgets/base",
            "_view_module_version": "1.2.0",
            "_view_name": "LayoutView",
            "align_content": null,
            "align_items": null,
            "align_self": null,
            "border": null,
            "bottom": null,
            "display": null,
            "flex": null,
            "flex_flow": null,
            "grid_area": null,
            "grid_auto_columns": null,
            "grid_auto_flow": null,
            "grid_auto_rows": null,
            "grid_column": null,
            "grid_gap": null,
            "grid_row": null,
            "grid_template_areas": null,
            "grid_template_columns": null,
            "grid_template_rows": null,
            "height": null,
            "justify_content": null,
            "justify_items": null,
            "left": null,
            "margin": null,
            "max_height": null,
            "max_width": null,
            "min_height": null,
            "min_width": null,
            "object_fit": null,
            "object_position": null,
            "order": null,
            "overflow": null,
            "overflow_x": null,
            "overflow_y": null,
            "padding": null,
            "right": null,
            "top": null,
            "visibility": null,
            "width": null
          }
        },
        "9661b02fc1af4cf1a4e0e978d6f4de74": {
          "model_module": "@jupyter-widgets/controls",
          "model_name": "DescriptionStyleModel",
          "model_module_version": "1.5.0",
          "state": {
            "_model_module": "@jupyter-widgets/controls",
            "_model_module_version": "1.5.0",
            "_model_name": "DescriptionStyleModel",
            "_view_count": null,
            "_view_module": "@jupyter-widgets/base",
            "_view_module_version": "1.2.0",
            "_view_name": "StyleView",
            "description_width": ""
          }
        },
        "9eef03528a9242cda497487293ef9b9d": {
          "model_module": "@jupyter-widgets/base",
          "model_name": "LayoutModel",
          "model_module_version": "1.2.0",
          "state": {
            "_model_module": "@jupyter-widgets/base",
            "_model_module_version": "1.2.0",
            "_model_name": "LayoutModel",
            "_view_count": null,
            "_view_module": "@jupyter-widgets/base",
            "_view_module_version": "1.2.0",
            "_view_name": "LayoutView",
            "align_content": null,
            "align_items": null,
            "align_self": null,
            "border": null,
            "bottom": null,
            "display": null,
            "flex": null,
            "flex_flow": null,
            "grid_area": null,
            "grid_auto_columns": null,
            "grid_auto_flow": null,
            "grid_auto_rows": null,
            "grid_column": null,
            "grid_gap": null,
            "grid_row": null,
            "grid_template_areas": null,
            "grid_template_columns": null,
            "grid_template_rows": null,
            "height": null,
            "justify_content": null,
            "justify_items": null,
            "left": null,
            "margin": null,
            "max_height": null,
            "max_width": null,
            "min_height": null,
            "min_width": null,
            "object_fit": null,
            "object_position": null,
            "order": null,
            "overflow": null,
            "overflow_x": null,
            "overflow_y": null,
            "padding": null,
            "right": null,
            "top": null,
            "visibility": null,
            "width": null
          }
        },
        "24d411e7b13c41c3b8dd80b6b0b7a1c0": {
          "model_module": "@jupyter-widgets/controls",
          "model_name": "ProgressStyleModel",
          "model_module_version": "1.5.0",
          "state": {
            "_model_module": "@jupyter-widgets/controls",
            "_model_module_version": "1.5.0",
            "_model_name": "ProgressStyleModel",
            "_view_count": null,
            "_view_module": "@jupyter-widgets/base",
            "_view_module_version": "1.2.0",
            "_view_name": "StyleView",
            "bar_color": null,
            "description_width": ""
          }
        },
        "8e099eccd74a423596b899490c5c47ef": {
          "model_module": "@jupyter-widgets/base",
          "model_name": "LayoutModel",
          "model_module_version": "1.2.0",
          "state": {
            "_model_module": "@jupyter-widgets/base",
            "_model_module_version": "1.2.0",
            "_model_name": "LayoutModel",
            "_view_count": null,
            "_view_module": "@jupyter-widgets/base",
            "_view_module_version": "1.2.0",
            "_view_name": "LayoutView",
            "align_content": null,
            "align_items": null,
            "align_self": null,
            "border": null,
            "bottom": null,
            "display": null,
            "flex": null,
            "flex_flow": null,
            "grid_area": null,
            "grid_auto_columns": null,
            "grid_auto_flow": null,
            "grid_auto_rows": null,
            "grid_column": null,
            "grid_gap": null,
            "grid_row": null,
            "grid_template_areas": null,
            "grid_template_columns": null,
            "grid_template_rows": null,
            "height": null,
            "justify_content": null,
            "justify_items": null,
            "left": null,
            "margin": null,
            "max_height": null,
            "max_width": null,
            "min_height": null,
            "min_width": null,
            "object_fit": null,
            "object_position": null,
            "order": null,
            "overflow": null,
            "overflow_x": null,
            "overflow_y": null,
            "padding": null,
            "right": null,
            "top": null,
            "visibility": null,
            "width": null
          }
        },
        "88b9370604ed4d088a2079f9ff3a3113": {
          "model_module": "@jupyter-widgets/controls",
          "model_name": "DescriptionStyleModel",
          "model_module_version": "1.5.0",
          "state": {
            "_model_module": "@jupyter-widgets/controls",
            "_model_module_version": "1.5.0",
            "_model_name": "DescriptionStyleModel",
            "_view_count": null,
            "_view_module": "@jupyter-widgets/base",
            "_view_module_version": "1.2.0",
            "_view_name": "StyleView",
            "description_width": ""
          }
        }
      }
    }
  },
  "cells": [
    {
      "cell_type": "markdown",
      "metadata": {
        "id": "view-in-github",
        "colab_type": "text"
      },
      "source": [
        "<a href=\"https://colab.research.google.com/github/yifanwu0909/Yifan-s-Docs/blob/master/Koch_Case_Study.ipynb\" target=\"_parent\"><img src=\"https://colab.research.google.com/assets/colab-badge.svg\" alt=\"Open In Colab\"/></a>"
      ]
    },
    {
      "cell_type": "markdown",
      "source": [
        "# Author\n",
        "\n",
        "Yifan Wu  \n",
        "yw515@georgetown.edu  \n",
        "2064340079  \n",
        "linkeIn: https://www.linkedin.com/in/yifan-wu-193050a9/\n",
        "\n",
        "# Introduction\n",
        "\n",
        "Predicting stock markets has been an endeavor a lot of people have chased.  Using Machine Learning (ML) and past price data to predict the next periods price or direction in the stock market is not new, neither does it produce any meaningful predictions. Since stock price is a stochastis(non-stationary) process, the characteristics of price movement don’t stay the same with time. Hence, predicting future prices based on historical patterns isn't theoretically possible.\n",
        "\n",
        "\n",
        "I propose a simple yet effective classification problem where only the direction of the stock is predicted for the next day. That seems much more doable than predicting price. \n",
        "\n",
        "\n",
        "# Methodology\n",
        "\n",
        "The company I chose is Exxon.\n",
        "XGboost binary classification model is trained with historic Exxon stock index data.\n",
        "\n",
        "# Result\n",
        "\n",
        "The model prediction reached 98% accuracy on test data and outperformed S&P500 stock index(67% accuracy).\n"
      ],
      "metadata": {
        "id": "C7yYD5pm8NnD"
      }
    },
    {
      "cell_type": "markdown",
      "source": [
        "# Python Implementation\n",
        "\n",
        "## Import necessary packages\n"
      ],
      "metadata": {
        "id": "s92b2IC6JECf"
      }
    },
    {
      "cell_type": "code",
      "execution_count": 1,
      "metadata": {
        "colab": {
          "base_uri": "https://localhost:8080/"
        },
        "id": "bVtUV-1R7W_d",
        "outputId": "0b875b5b-f504-4164-f5be-5405dc2c2038"
      },
      "outputs": [
        {
          "output_type": "stream",
          "name": "stderr",
          "text": [
            "ERROR:numba.cuda.cudadrv.driver:Call to cuInit results in CUDA_ERROR_NO_DEVICE\n"
          ]
        }
      ],
      "source": [
        "import os\n",
        "file_dir = \"/content/drive/MyDrive/Colab Notebooks/\"\n",
        "os.chdir(file_dir)\n",
        "import math\n",
        "import matplotlib\n",
        "import numpy as np\n",
        "import pandas as pd\n",
        "import seaborn as sns\n",
        "import skopt\n",
        "from datetime import date\n",
        "from matplotlib import pyplot as plt\n",
        "from pylab import rcParams\n",
        "from sklearn.preprocessing import StandardScaler\n",
        "from tqdm import tqdm_notebook\n",
        "from xgboost import XGBClassifier\n",
        "import pandas_datareader as pdr\n",
        "from tsfresh.utilities.dataframe_functions import roll_time_series\n",
        "from tsfresh import extract_features\n",
        "import pandas as pd\n",
        "import warnings\n",
        "warnings.filterwarnings(\"ignore\")\n",
        "from copy import deepcopy\n",
        "import matplotlib as mpl\n",
        "import matplotlib.pyplot as plt\n",
        "import seaborn as sns\n",
        "from statsmodels.graphics.tsaplots import plot_acf,plot_pacf\n",
        "from sklearn.model_selection import GridSearchCV,RandomizedSearchCV,train_test_split\n",
        "from skopt import BayesSearchCV\n",
        "from sklearn.metrics import accuracy_score,f1_score,roc_auc_score,confusion_matrix,roc_curve\n",
        "import xgboost as xgb\n",
        "import time\n",
        "import warnings\n",
        "%matplotlib inline"
      ]
    },
    {
      "cell_type": "code",
      "source": [
        "pip install scikit-optimize"
      ],
      "metadata": {
        "id": "ajKdHtg1Fgf4"
      },
      "execution_count": null,
      "outputs": []
    },
    {
      "cell_type": "code",
      "source": [
        "pip install -U tsfresh"
      ],
      "metadata": {
        "id": "SY5Cd-1Wyyl2"
      },
      "execution_count": null,
      "outputs": []
    },
    {
      "cell_type": "code",
      "source": [
        "pip install scikit-plot"
      ],
      "metadata": {
        "id": "YsbPeYUI52gl"
      },
      "execution_count": null,
      "outputs": []
    },
    {
      "cell_type": "code",
      "source": [
        "#pip install fix-yahoo-finance==0.1.30\n",
        "!pip install --upgrade pandas-datareader"
      ],
      "metadata": {
        "id": "VA6suC6iZTyC"
      },
      "execution_count": null,
      "outputs": []
    },
    {
      "cell_type": "markdown",
      "source": [
        "## Import data\n",
        "\n",
        "Data source: [Yahoo finance](https://finance.yahoo.com/quote/Xom?ltr=1)"
      ],
      "metadata": {
        "id": "MwgJ3hpyTxik"
      }
    },
    {
      "cell_type": "code",
      "source": [
        "# Convert Date column to datetime\n",
        "df=pdr.get_data_yahoo('XOM',start = '2015-02-28', end = '2022-02-28')\n",
        "df=df.reset_index()\n",
        "df.loc[:, 'Date'] = pd.to_datetime(df['Date'],format='%Y-%m-%d')\n",
        "# Change all column headings to be lower case, and remove spacing\n",
        "df.columns = [str(x).lower().replace(' ', '_') for x in df.columns]\n",
        "# Sort by datetime\n",
        "df.sort_values(by='date', inplace=True, ascending=True)\n",
        "df.head()"
      ],
      "metadata": {
        "colab": {
          "base_uri": "https://localhost:8080/",
          "height": 206
        },
        "id": "gtiNytw1LdRS",
        "outputId": "b45a5557-8f67-4e76-f7cb-529877efa821"
      },
      "execution_count": 2,
      "outputs": [
        {
          "output_type": "execute_result",
          "data": {
            "text/plain": [
              "        date       high        low       open      close      volume  \\\n",
              "0 2015-03-02  88.519997  87.349998  88.339996  88.040001  13793700.0   \n",
              "1 2015-03-03  88.019997  87.129997  87.930000  87.620003  13493800.0   \n",
              "2 2015-03-04  87.959999  86.930000  87.959999  87.180000  13467600.0   \n",
              "3 2015-03-05  87.190002  86.519997  87.070000  86.739998  12527600.0   \n",
              "4 2015-03-06  86.599998  85.320000  86.410004  85.629997  16070500.0   \n",
              "\n",
              "   adj_close  \n",
              "0  61.355690  \n",
              "1  61.063007  \n",
              "2  60.756363  \n",
              "3  60.449726  \n",
              "4  59.676163  "
            ],
            "text/html": [
              "\n",
              "  <div id=\"df-3d3faa42-bcc7-467d-ae8f-2f1957f28b7a\">\n",
              "    <div class=\"colab-df-container\">\n",
              "      <div>\n",
              "<style scoped>\n",
              "    .dataframe tbody tr th:only-of-type {\n",
              "        vertical-align: middle;\n",
              "    }\n",
              "\n",
              "    .dataframe tbody tr th {\n",
              "        vertical-align: top;\n",
              "    }\n",
              "\n",
              "    .dataframe thead th {\n",
              "        text-align: right;\n",
              "    }\n",
              "</style>\n",
              "<table border=\"1\" class=\"dataframe\">\n",
              "  <thead>\n",
              "    <tr style=\"text-align: right;\">\n",
              "      <th></th>\n",
              "      <th>date</th>\n",
              "      <th>high</th>\n",
              "      <th>low</th>\n",
              "      <th>open</th>\n",
              "      <th>close</th>\n",
              "      <th>volume</th>\n",
              "      <th>adj_close</th>\n",
              "    </tr>\n",
              "  </thead>\n",
              "  <tbody>\n",
              "    <tr>\n",
              "      <th>0</th>\n",
              "      <td>2015-03-02</td>\n",
              "      <td>88.519997</td>\n",
              "      <td>87.349998</td>\n",
              "      <td>88.339996</td>\n",
              "      <td>88.040001</td>\n",
              "      <td>13793700.0</td>\n",
              "      <td>61.355690</td>\n",
              "    </tr>\n",
              "    <tr>\n",
              "      <th>1</th>\n",
              "      <td>2015-03-03</td>\n",
              "      <td>88.019997</td>\n",
              "      <td>87.129997</td>\n",
              "      <td>87.930000</td>\n",
              "      <td>87.620003</td>\n",
              "      <td>13493800.0</td>\n",
              "      <td>61.063007</td>\n",
              "    </tr>\n",
              "    <tr>\n",
              "      <th>2</th>\n",
              "      <td>2015-03-04</td>\n",
              "      <td>87.959999</td>\n",
              "      <td>86.930000</td>\n",
              "      <td>87.959999</td>\n",
              "      <td>87.180000</td>\n",
              "      <td>13467600.0</td>\n",
              "      <td>60.756363</td>\n",
              "    </tr>\n",
              "    <tr>\n",
              "      <th>3</th>\n",
              "      <td>2015-03-05</td>\n",
              "      <td>87.190002</td>\n",
              "      <td>86.519997</td>\n",
              "      <td>87.070000</td>\n",
              "      <td>86.739998</td>\n",
              "      <td>12527600.0</td>\n",
              "      <td>60.449726</td>\n",
              "    </tr>\n",
              "    <tr>\n",
              "      <th>4</th>\n",
              "      <td>2015-03-06</td>\n",
              "      <td>86.599998</td>\n",
              "      <td>85.320000</td>\n",
              "      <td>86.410004</td>\n",
              "      <td>85.629997</td>\n",
              "      <td>16070500.0</td>\n",
              "      <td>59.676163</td>\n",
              "    </tr>\n",
              "  </tbody>\n",
              "</table>\n",
              "</div>\n",
              "      <button class=\"colab-df-convert\" onclick=\"convertToInteractive('df-3d3faa42-bcc7-467d-ae8f-2f1957f28b7a')\"\n",
              "              title=\"Convert this dataframe to an interactive table.\"\n",
              "              style=\"display:none;\">\n",
              "        \n",
              "  <svg xmlns=\"http://www.w3.org/2000/svg\" height=\"24px\"viewBox=\"0 0 24 24\"\n",
              "       width=\"24px\">\n",
              "    <path d=\"M0 0h24v24H0V0z\" fill=\"none\"/>\n",
              "    <path d=\"M18.56 5.44l.94 2.06.94-2.06 2.06-.94-2.06-.94-.94-2.06-.94 2.06-2.06.94zm-11 1L8.5 8.5l.94-2.06 2.06-.94-2.06-.94L8.5 2.5l-.94 2.06-2.06.94zm10 10l.94 2.06.94-2.06 2.06-.94-2.06-.94-.94-2.06-.94 2.06-2.06.94z\"/><path d=\"M17.41 7.96l-1.37-1.37c-.4-.4-.92-.59-1.43-.59-.52 0-1.04.2-1.43.59L10.3 9.45l-7.72 7.72c-.78.78-.78 2.05 0 2.83L4 21.41c.39.39.9.59 1.41.59.51 0 1.02-.2 1.41-.59l7.78-7.78 2.81-2.81c.8-.78.8-2.07 0-2.86zM5.41 20L4 18.59l7.72-7.72 1.47 1.35L5.41 20z\"/>\n",
              "  </svg>\n",
              "      </button>\n",
              "      \n",
              "  <style>\n",
              "    .colab-df-container {\n",
              "      display:flex;\n",
              "      flex-wrap:wrap;\n",
              "      gap: 12px;\n",
              "    }\n",
              "\n",
              "    .colab-df-convert {\n",
              "      background-color: #E8F0FE;\n",
              "      border: none;\n",
              "      border-radius: 50%;\n",
              "      cursor: pointer;\n",
              "      display: none;\n",
              "      fill: #1967D2;\n",
              "      height: 32px;\n",
              "      padding: 0 0 0 0;\n",
              "      width: 32px;\n",
              "    }\n",
              "\n",
              "    .colab-df-convert:hover {\n",
              "      background-color: #E2EBFA;\n",
              "      box-shadow: 0px 1px 2px rgba(60, 64, 67, 0.3), 0px 1px 3px 1px rgba(60, 64, 67, 0.15);\n",
              "      fill: #174EA6;\n",
              "    }\n",
              "\n",
              "    [theme=dark] .colab-df-convert {\n",
              "      background-color: #3B4455;\n",
              "      fill: #D2E3FC;\n",
              "    }\n",
              "\n",
              "    [theme=dark] .colab-df-convert:hover {\n",
              "      background-color: #434B5C;\n",
              "      box-shadow: 0px 1px 3px 1px rgba(0, 0, 0, 0.15);\n",
              "      filter: drop-shadow(0px 1px 2px rgba(0, 0, 0, 0.3));\n",
              "      fill: #FFFFFF;\n",
              "    }\n",
              "  </style>\n",
              "\n",
              "      <script>\n",
              "        const buttonEl =\n",
              "          document.querySelector('#df-3d3faa42-bcc7-467d-ae8f-2f1957f28b7a button.colab-df-convert');\n",
              "        buttonEl.style.display =\n",
              "          google.colab.kernel.accessAllowed ? 'block' : 'none';\n",
              "\n",
              "        async function convertToInteractive(key) {\n",
              "          const element = document.querySelector('#df-3d3faa42-bcc7-467d-ae8f-2f1957f28b7a');\n",
              "          const dataTable =\n",
              "            await google.colab.kernel.invokeFunction('convertToInteractive',\n",
              "                                                     [key], {});\n",
              "          if (!dataTable) return;\n",
              "\n",
              "          const docLinkHtml = 'Like what you see? Visit the ' +\n",
              "            '<a target=\"_blank\" href=https://colab.research.google.com/notebooks/data_table.ipynb>data table notebook</a>'\n",
              "            + ' to learn more about interactive tables.';\n",
              "          element.innerHTML = '';\n",
              "          dataTable['output_type'] = 'display_data';\n",
              "          await google.colab.output.renderOutput(dataTable, element);\n",
              "          const docLink = document.createElement('div');\n",
              "          docLink.innerHTML = docLinkHtml;\n",
              "          element.appendChild(docLink);\n",
              "        }\n",
              "      </script>\n",
              "    </div>\n",
              "  </div>\n",
              "  "
            ]
          },
          "metadata": {},
          "execution_count": 2
        }
      ]
    },
    {
      "cell_type": "code",
      "source": [
        "# Plot adjusted close over time\n",
        "rcParams['figure.figsize'] = 10, 8 # width 10, height 8\n",
        "\n",
        "ax = df.plot(x='date', y='adj_close', style='b-', grid=True)\n",
        "ax.set_xlabel(\"date\")\n",
        "ax.set_ylabel(\"USD\")"
      ],
      "metadata": {
        "colab": {
          "base_uri": "https://localhost:8080/",
          "height": 482
        },
        "id": "CTGgFMvIlf9A",
        "outputId": "f39f4c96-15ec-4b9e-cc4f-fba0d8475ebf"
      },
      "execution_count": 3,
      "outputs": [
        {
          "output_type": "execute_result",
          "data": {
            "text/plain": [
              "Text(0, 0.5, 'USD')"
            ]
          },
          "metadata": {},
          "execution_count": 3
        },
        {
          "output_type": "display_data",
          "data": {
            "text/plain": [
              "<Figure size 720x576 with 1 Axes>"
            ],
            "image/png": "[encoded data removed]"
          },
          "metadata": {
            "needs_background": "light"
          }
        }
      ]
    },
    {
      "cell_type": "markdown",
      "source": [
        "Once the data has been downloaded and stored into a new environment I clean the data up a little, put all the lists into a single data frame, compute the daily returns for each asset and create the up or down direction which will be what the classification model will try to predict. We want to use the adjusted closing prices column to generate direction(adjusted for stock splits, which can make it appear that a stock is performing poorly if a split is included)."
      ],
      "metadata": {
        "id": "2v7-EoPbQxig"
      }
    },
    {
      "cell_type": "code",
      "source": [
        "df['ret'] = df['adj_close'].pct_change(periods = 1)\n",
        "df.dropna(inplace=True)\n",
        "df.reset_index(drop=True, inplace=True)\n",
        "df['chng'] = df['ret'].map(lambda v: 1 if v > 0 else 0)\n",
        "df.head(10)\n",
        "#a random sample of observations of the data looks like:"
      ],
      "metadata": {
        "colab": {
          "base_uri": "https://localhost:8080/",
          "height": 363
        },
        "id": "rgPhZOATLqDz",
        "outputId": "2ea5edfc-3a91-45fb-f183-e1d209d31021"
      },
      "execution_count": 4,
      "outputs": [
        {
          "output_type": "execute_result",
          "data": {
            "text/plain": [
              "           date       high        low       open      close      volume  \\\n",
              "1224 2020-01-10  69.959999  69.120003  69.930000  69.139999  11995600.0   \n",
              "430  2016-11-11  86.730003  84.889999  86.529999  85.669998  13812200.0   \n",
              "1438 2020-11-13  36.250000  35.380001  35.400002  36.080002  29241500.0   \n",
              "632  2017-09-01  76.849998  76.320000  76.370003  76.570000   7361100.0   \n",
              "497  2017-02-21  82.150002  81.300003  82.120003  81.889999  16419600.0   \n",
              "504  2017-03-02  84.250000  82.790001  82.800003  83.300003  14170300.0   \n",
              "627  2017-08-25  77.129997  76.430000  76.559998  76.720001   6844900.0   \n",
              "1210 2019-12-19  70.050003  69.239998  69.989998  69.389999  13273200.0   \n",
              "1674 2021-10-22  63.220001  62.349998  62.770000  63.119999  14266800.0   \n",
              "555  2017-05-15  83.180000  82.650002  83.000000  82.800003  10881500.0   \n",
              "\n",
              "      adj_close       ret  chng  \n",
              "1224  58.016151 -0.008888     0  \n",
              "430   63.455635 -0.015853     0  \n",
              "1438  32.692989  0.024127     1  \n",
              "632   58.334358  0.003144     1  \n",
              "497   61.210453  0.001590     1  \n",
              "504   62.264370  0.003373     1  \n",
              "627   58.448647  0.005109     1  \n",
              "1210  58.225933 -0.006870     0  \n",
              "1674  59.906467  0.006859     1  \n",
              "555   62.475090  0.003028     1  "
            ],
            "text/html": [
              "\n",
              "  <div id=\"df-e08237b4-7152-4159-ae6c-21d9edc32744\">\n",
              "    <div class=\"colab-df-container\">\n",
              "      <div>\n",
              "<style scoped>\n",
              "    .dataframe tbody tr th:only-of-type {\n",
              "        vertical-align: middle;\n",
              "    }\n",
              "\n",
              "    .dataframe tbody tr th {\n",
              "        vertical-align: top;\n",
              "    }\n",
              "\n",
              "    .dataframe thead th {\n",
              "        text-align: right;\n",
              "    }\n",
              "</style>\n",
              "<table border=\"1\" class=\"dataframe\">\n",
              "  <thead>\n",
              "    <tr style=\"text-align: right;\">\n",
              "      <th></th>\n",
              "      <th>date</th>\n",
              "      <th>high</th>\n",
              "      <th>low</th>\n",
              "      <th>open</th>\n",
              "      <th>close</th>\n",
              "      <th>volume</th>\n",
              "      <th>adj_close</th>\n",
              "      <th>ret</th>\n",
              "      <th>chng</th>\n",
              "    </tr>\n",
              "  </thead>\n",
              "  <tbody>\n",
              "    <tr>\n",
              "      <th>1224</th>\n",
              "      <td>2020-01-10</td>\n",
              "      <td>69.959999</td>\n",
              "      <td>69.120003</td>\n",
              "      <td>69.930000</td>\n",
              "      <td>69.139999</td>\n",
              "      <td>11995600.0</td>\n",
              "      <td>58.016151</td>\n",
              "      <td>-0.008888</td>\n",
              "      <td>0</td>\n",
              "    </tr>\n",
              "    <tr>\n",
              "      <th>430</th>\n",
              "      <td>2016-11-11</td>\n",
              "      <td>86.730003</td>\n",
              "      <td>84.889999</td>\n",
              "      <td>86.529999</td>\n",
              "      <td>85.669998</td>\n",
              "      <td>13812200.0</td>\n",
              "      <td>63.455635</td>\n",
              "      <td>-0.015853</td>\n",
              "      <td>0</td>\n",
              "    </tr>\n",
              "    <tr>\n",
              "      <th>1438</th>\n",
              "      <td>2020-11-13</td>\n",
              "      <td>36.250000</td>\n",
              "      <td>35.380001</td>\n",
              "      <td>35.400002</td>\n",
              "      <td>36.080002</td>\n",
              "      <td>29241500.0</td>\n",
              "      <td>32.692989</td>\n",
              "      <td>0.024127</td>\n",
              "      <td>1</td>\n",
              "    </tr>\n",
              "    <tr>\n",
              "      <th>632</th>\n",
              "      <td>2017-09-01</td>\n",
              "      <td>76.849998</td>\n",
              "      <td>76.320000</td>\n",
              "      <td>76.370003</td>\n",
              "      <td>76.570000</td>\n",
              "      <td>7361100.0</td>\n",
              "      <td>58.334358</td>\n",
              "      <td>0.003144</td>\n",
              "      <td>1</td>\n",
              "    </tr>\n",
              "    <tr>\n",
              "      <th>497</th>\n",
              "      <td>2017-02-21</td>\n",
              "      <td>82.150002</td>\n",
              "      <td>81.300003</td>\n",
              "      <td>82.120003</td>\n",
              "      <td>81.889999</td>\n",
              "      <td>16419600.0</td>\n",
              "      <td>61.210453</td>\n",
              "      <td>0.001590</td>\n",
              "      <td>1</td>\n",
              "    </tr>\n",
              "    <tr>\n",
              "      <th>504</th>\n",
              "      <td>2017-03-02</td>\n",
              "      <td>84.250000</td>\n",
              "      <td>82.790001</td>\n",
              "      <td>82.800003</td>\n",
              "      <td>83.300003</td>\n",
              "      <td>14170300.0</td>\n",
              "      <td>62.264370</td>\n",
              "      <td>0.003373</td>\n",
              "      <td>1</td>\n",
              "    </tr>\n",
              "    <tr>\n",
              "      <th>627</th>\n",
              "      <td>2017-08-25</td>\n",
              "      <td>77.129997</td>\n",
              "      <td>76.430000</td>\n",
              "      <td>76.559998</td>\n",
              "      <td>76.720001</td>\n",
              "      <td>6844900.0</td>\n",
              "      <td>58.448647</td>\n",
              "      <td>0.005109</td>\n",
              "      <td>1</td>\n",
              "    </tr>\n",
              "    <tr>\n",
              "      <th>1210</th>\n",
              "      <td>2019-12-19</td>\n",
              "      <td>70.050003</td>\n",
              "      <td>69.239998</td>\n",
              "      <td>69.989998</td>\n",
              "      <td>69.389999</td>\n",
              "      <td>13273200.0</td>\n",
              "      <td>58.225933</td>\n",
              "      <td>-0.006870</td>\n",
              "      <td>0</td>\n",
              "    </tr>\n",
              "    <tr>\n",
              "      <th>1674</th>\n",
              "      <td>2021-10-22</td>\n",
              "      <td>63.220001</td>\n",
              "      <td>62.349998</td>\n",
              "      <td>62.770000</td>\n",
              "      <td>63.119999</td>\n",
              "      <td>14266800.0</td>\n",
              "      <td>59.906467</td>\n",
              "      <td>0.006859</td>\n",
              "      <td>1</td>\n",
              "    </tr>\n",
              "    <tr>\n",
              "      <th>555</th>\n",
              "      <td>2017-05-15</td>\n",
              "      <td>83.180000</td>\n",
              "      <td>82.650002</td>\n",
              "      <td>83.000000</td>\n",
              "      <td>82.800003</td>\n",
              "      <td>10881500.0</td>\n",
              "      <td>62.475090</td>\n",
              "      <td>0.003028</td>\n",
              "      <td>1</td>\n",
              "    </tr>\n",
              "  </tbody>\n",
              "</table>\n",
              "</div>\n",
              "      <button class=\"colab-df-convert\" onclick=\"convertToInteractive('df-e08237b4-7152-4159-ae6c-21d9edc32744')\"\n",
              "              title=\"Convert this dataframe to an interactive table.\"\n",
              "              style=\"display:none;\">\n",
              "        \n",
              "  <svg xmlns=\"http://www.w3.org/2000/svg\" height=\"24px\"viewBox=\"0 0 24 24\"\n",
              "       width=\"24px\">\n",
              "    <path d=\"M0 0h24v24H0V0z\" fill=\"none\"/>\n",
              "    <path d=\"M18.56 5.44l.94 2.06.94-2.06 2.06-.94-2.06-.94-.94-2.06-.94 2.06-2.06.94zm-11 1L8.5 8.5l.94-2.06 2.06-.94-2.06-.94L8.5 2.5l-.94 2.06-2.06.94zm10 10l.94 2.06.94-2.06 2.06-.94-2.06-.94-.94-2.06-.94 2.06-2.06.94z\"/><path d=\"M17.41 7.96l-1.37-1.37c-.4-.4-.92-.59-1.43-.59-.52 0-1.04.2-1.43.59L10.3 9.45l-7.72 7.72c-.78.78-.78 2.05 0 2.83L4 21.41c.39.39.9.59 1.41.59.51 0 1.02-.2 1.41-.59l7.78-7.78 2.81-2.81c.8-.78.8-2.07 0-2.86zM5.41 20L4 18.59l7.72-7.72 1.47 1.35L5.41 20z\"/>\n",
              "  </svg>\n",
              "      </button>\n",
              "      \n",
              "  <style>\n",
              "    .colab-df-container {\n",
              "      display:flex;\n",
              "      flex-wrap:wrap;\n",
              "      gap: 12px;\n",
              "    }\n",
              "\n",
              "    .colab-df-convert {\n",
              "      background-color: #E8F0FE;\n",
              "      border: none;\n",
              "      border-radius: 50%;\n",
              "      cursor: pointer;\n",
              "      display: none;\n",
              "      fill: #1967D2;\n",
              "      height: 32px;\n",
              "      padding: 0 0 0 0;\n",
              "      width: 32px;\n",
              "    }\n",
              "\n",
              "    .colab-df-convert:hover {\n",
              "      background-color: #E2EBFA;\n",
              "      box-shadow: 0px 1px 2px rgba(60, 64, 67, 0.3), 0px 1px 3px 1px rgba(60, 64, 67, 0.15);\n",
              "      fill: #174EA6;\n",
              "    }\n",
              "\n",
              "    [theme=dark] .colab-df-convert {\n",
              "      background-color: #3B4455;\n",
              "      fill: #D2E3FC;\n",
              "    }\n",
              "\n",
              "    [theme=dark] .colab-df-convert:hover {\n",
              "      background-color: #434B5C;\n",
              "      box-shadow: 0px 1px 3px 1px rgba(0, 0, 0, 0.15);\n",
              "      filter: drop-shadow(0px 1px 2px rgba(0, 0, 0, 0.3));\n",
              "      fill: #FFFFFF;\n",
              "    }\n",
              "  </style>\n",
              "\n",
              "      <script>\n",
              "        const buttonEl =\n",
              "          document.querySelector('#df-e08237b4-7152-4159-ae6c-21d9edc32744 button.colab-df-convert');\n",
              "        buttonEl.style.display =\n",
              "          google.colab.kernel.accessAllowed ? 'block' : 'none';\n",
              "\n",
              "        async function convertToInteractive(key) {\n",
              "          const element = document.querySelector('#df-e08237b4-7152-4159-ae6c-21d9edc32744');\n",
              "          const dataTable =\n",
              "            await google.colab.kernel.invokeFunction('convertToInteractive',\n",
              "                                                     [key], {});\n",
              "          if (!dataTable) return;\n",
              "\n",
              "          const docLinkHtml = 'Like what you see? Visit the ' +\n",
              "            '<a target=\"_blank\" href=https://colab.research.google.com/notebooks/data_table.ipynb>data table notebook</a>'\n",
              "            + ' to learn more about interactive tables.';\n",
              "          element.innerHTML = '';\n",
              "          dataTable['output_type'] = 'display_data';\n",
              "          await google.colab.output.renderOutput(dataTable, element);\n",
              "          const docLink = document.createElement('div');\n",
              "          docLink.innerHTML = docLinkHtml;\n",
              "          element.appendChild(docLink);\n",
              "        }\n",
              "      </script>\n",
              "    </div>\n",
              "  </div>\n",
              "  "
            ]
          },
          "metadata": {},
          "execution_count": 4
        }
      ]
    },
    {
      "cell_type": "markdown",
      "source": [
        "# Feature Engineering\n",
        "\n",
        "We will generate the following features on a rolling bases: collapse the time series data down by taking the previous N days of data and calculating the feature functions on it. Here I chose N = 7. \n",
        "\n",
        "In two of my mail reference project for this project(see foot note), each of them chose a specific set of time series features. Immediately the question popped into my head was: why these features? And is there more features that we can unpack? Through my research I found 10+ features that I can implement but soon I was getting overwhelmed. Lukily I discovered a package call tsfresh, which generate thousands of time series features. It also provide feature selection so we only use the influential ones for training. "
      ],
      "metadata": {
        "id": "wAWuFuNUvbVf"
      }
    },
    {
      "cell_type": "code",
      "source": [
        "# feature importance https://stackoverflow.com/a/50848452 \n",
        "from tsfresh import extract_features\n",
        "# tsfresh:https://towardsdatascience.com/automate-time-series-feature-engineering-in-a-few-lines-of-python-code-f28fe52e4704\n",
        "df['id'] = 'XOM'\n",
        "X = df.drop([\"chng\", \"ret\", \"adj_close\"], axis=1)\n",
        "\n",
        "# Roll time series data with lag number N = 7, we are aggregating information over the pass 7 days, for every day, we calcullate some features using data from day N, N - 1, ... , N - 7\n",
        "df_rolled = roll_time_series(X, column_id=\"id\", column_sort=\"date\", max_timeshift = 7)\n",
        "df_features = extract_features(df_rolled, column_id=\"id\", column_sort=\"date\")\n",
        "skopt.dump(df_features, \"df_features.pkl\")\n",
        "df_features.head(3)"
      ],
      "metadata": {
        "colab": {
          "base_uri": "https://localhost:8080/",
          "height": 324
        },
        "id": "5eJeuE4y1fvg",
        "outputId": "d1e04159-3a8a-4523-d75b-2752e7f32d87"
      },
      "execution_count": 5,
      "outputs": [
        {
          "output_type": "stream",
          "name": "stderr",
          "text": [
            "Rolling: 100%|██████████| 1762/1762 [00:03<00:00, 458.70it/s]\n",
            "Feature Extraction: 100%|██████████| 8810/8810 [08:27<00:00, 17.36it/s]\n"
          ]
        },
        {
          "output_type": "execute_result",
          "data": {
            "text/plain": [
              "                high__variance_larger_than_standard_deviation  \\\n",
              "XOM 2015-03-03                                            0.0   \n",
              "    2015-03-04                                            0.0   \n",
              "    2015-03-05                                            0.0   \n",
              "\n",
              "                high__has_duplicate_max  high__has_duplicate_min  \\\n",
              "XOM 2015-03-03                      0.0                      0.0   \n",
              "    2015-03-04                      0.0                      0.0   \n",
              "    2015-03-05                      0.0                      0.0   \n",
              "\n",
              "                high__has_duplicate  high__sum_values  high__abs_energy  \\\n",
              "XOM 2015-03-03                  0.0         88.019997       7747.519809   \n",
              "    2015-03-04                  0.0        175.979996      15484.481248   \n",
              "    2015-03-05                  0.0        263.169998      23086.577774   \n",
              "\n",
              "                high__mean_abs_change  high__mean_change  \\\n",
              "XOM 2015-03-03                    NaN                NaN   \n",
              "    2015-03-04               0.059998          -0.059998   \n",
              "    2015-03-05               0.414997          -0.414997   \n",
              "\n",
              "                high__mean_second_derivative_central  high__median  ...  \\\n",
              "XOM 2015-03-03                                   NaN     88.019997  ...   \n",
              "    2015-03-04                                   NaN     87.989998  ...   \n",
              "    2015-03-05                                -0.355     87.959999  ...   \n",
              "\n",
              "                volume__permutation_entropy__dimension_6__tau_1  \\\n",
              "XOM 2015-03-03                                              NaN   \n",
              "    2015-03-04                                              NaN   \n",
              "    2015-03-05                                              NaN   \n",
              "\n",
              "                volume__permutation_entropy__dimension_7__tau_1  \\\n",
              "XOM 2015-03-03                                              NaN   \n",
              "    2015-03-04                                              NaN   \n",
              "    2015-03-05                                              NaN   \n",
              "\n",
              "                volume__query_similarity_count__query_None__threshold_0.0  \\\n",
              "XOM 2015-03-03                                                NaN           \n",
              "    2015-03-04                                                NaN           \n",
              "    2015-03-05                                                NaN           \n",
              "\n",
              "                volume__matrix_profile__feature_\"min\"__threshold_0.98  \\\n",
              "XOM 2015-03-03                                                NaN       \n",
              "    2015-03-04                                                NaN       \n",
              "    2015-03-05                                                NaN       \n",
              "\n",
              "                volume__matrix_profile__feature_\"max\"__threshold_0.98  \\\n",
              "XOM 2015-03-03                                                NaN       \n",
              "    2015-03-04                                                NaN       \n",
              "    2015-03-05                                                NaN       \n",
              "\n",
              "                volume__matrix_profile__feature_\"mean\"__threshold_0.98  \\\n",
              "XOM 2015-03-03                                                NaN        \n",
              "    2015-03-04                                                NaN        \n",
              "    2015-03-05                                                NaN        \n",
              "\n",
              "                volume__matrix_profile__feature_\"median\"__threshold_0.98  \\\n",
              "XOM 2015-03-03                                                NaN          \n",
              "    2015-03-04                                                NaN          \n",
              "    2015-03-05                                                NaN          \n",
              "\n",
              "                volume__matrix_profile__feature_\"25\"__threshold_0.98  \\\n",
              "XOM 2015-03-03                                                NaN      \n",
              "    2015-03-04                                                NaN      \n",
              "    2015-03-05                                                NaN      \n",
              "\n",
              "                volume__matrix_profile__feature_\"75\"__threshold_0.98  \\\n",
              "XOM 2015-03-03                                                NaN      \n",
              "    2015-03-04                                                NaN      \n",
              "    2015-03-05                                                NaN      \n",
              "\n",
              "                volume__mean_n_absolute_max__number_of_maxima_7  \n",
              "XOM 2015-03-03                                              NaN  \n",
              "    2015-03-04                                              NaN  \n",
              "    2015-03-05                                              NaN  \n",
              "\n",
              "[3 rows x 3945 columns]"
            ],
            "text/html": [
              "\n",
              "  <div id=\"df-406bb3d2-a6a4-4bc9-a0dc-cca5534a90ff\">\n",
              "    <div class=\"colab-df-container\">\n",
              "      <div>\n",
              "<style scoped>\n",
              "    .dataframe tbody tr th:only-of-type {\n",
              "        vertical-align: middle;\n",
              "    }\n",
              "\n",
              "    .dataframe tbody tr th {\n",
              "        vertical-align: top;\n",
              "    }\n",
              "\n",
              "    .dataframe thead th {\n",
              "        text-align: right;\n",
              "    }\n",
              "</style>\n",
              "<table border=\"1\" class=\"dataframe\">\n",
              "  <thead>\n",
              "    <tr style=\"text-align: right;\">\n",
              "      <th></th>\n",
              "      <th></th>\n",
              "      <th>high__variance_larger_than_standard_deviation</th>\n",
              "      <th>high__has_duplicate_max</th>\n",
              "      <th>high__has_duplicate_min</th>\n",
              "      <th>high__has_duplicate</th>\n",
              "      <th>high__sum_values</th>\n",
              "      <th>high__abs_energy</th>\n",
              "      <th>high__mean_abs_change</th>\n",
              "      <th>high__mean_change</th>\n",
              "      <th>high__mean_second_derivative_central</th>\n",
              "      <th>high__median</th>\n",
              "      <th>...</th>\n",
              "      <th>volume__permutation_entropy__dimension_6__tau_1</th>\n",
              "      <th>volume__permutation_entropy__dimension_7__tau_1</th>\n",
              "      <th>volume__query_similarity_count__query_None__threshold_0.0</th>\n",
              "      <th>volume__matrix_profile__feature_\"min\"__threshold_0.98</th>\n",
              "      <th>volume__matrix_profile__feature_\"max\"__threshold_0.98</th>\n",
              "      <th>volume__matrix_profile__feature_\"mean\"__threshold_0.98</th>\n",
              "      <th>volume__matrix_profile__feature_\"median\"__threshold_0.98</th>\n",
              "      <th>volume__matrix_profile__feature_\"25\"__threshold_0.98</th>\n",
              "      <th>volume__matrix_profile__feature_\"75\"__threshold_0.98</th>\n",
              "      <th>volume__mean_n_absolute_max__number_of_maxima_7</th>\n",
              "    </tr>\n",
              "  </thead>\n",
              "  <tbody>\n",
              "    <tr>\n",
              "      <th rowspan=\"3\" valign=\"top\">XOM</th>\n",
              "      <th>2015-03-03</th>\n",
              "      <td>0.0</td>\n",
              "      <td>0.0</td>\n",
              "      <td>0.0</td>\n",
              "      <td>0.0</td>\n",
              "      <td>88.019997</td>\n",
              "      <td>7747.519809</td>\n",
              "      <td>NaN</td>\n",
              "      <td>NaN</td>\n",
              "      <td>NaN</td>\n",
              "      <td>88.019997</td>\n",
              "      <td>...</td>\n",
              "      <td>NaN</td>\n",
              "      <td>NaN</td>\n",
              "      <td>NaN</td>\n",
              "      <td>NaN</td>\n",
              "      <td>NaN</td>\n",
              "      <td>NaN</td>\n",
              "      <td>NaN</td>\n",
              "      <td>NaN</td>\n",
              "      <td>NaN</td>\n",
              "      <td>NaN</td>\n",
              "    </tr>\n",
              "    <tr>\n",
              "      <th>2015-03-04</th>\n",
              "      <td>0.0</td>\n",
              "      <td>0.0</td>\n",
              "      <td>0.0</td>\n",
              "      <td>0.0</td>\n",
              "      <td>175.979996</td>\n",
              "      <td>15484.481248</td>\n",
              "      <td>0.059998</td>\n",
              "      <td>-0.059998</td>\n",
              "      <td>NaN</td>\n",
              "      <td>87.989998</td>\n",
              "      <td>...</td>\n",
              "      <td>NaN</td>\n",
              "      <td>NaN</td>\n",
              "      <td>NaN</td>\n",
              "      <td>NaN</td>\n",
              "      <td>NaN</td>\n",
              "      <td>NaN</td>\n",
              "      <td>NaN</td>\n",
              "      <td>NaN</td>\n",
              "      <td>NaN</td>\n",
              "      <td>NaN</td>\n",
              "    </tr>\n",
              "    <tr>\n",
              "      <th>2015-03-05</th>\n",
              "      <td>0.0</td>\n",
              "      <td>0.0</td>\n",
              "      <td>0.0</td>\n",
              "      <td>0.0</td>\n",
              "      <td>263.169998</td>\n",
              "      <td>23086.577774</td>\n",
              "      <td>0.414997</td>\n",
              "      <td>-0.414997</td>\n",
              "      <td>-0.355</td>\n",
              "      <td>87.959999</td>\n",
              "      <td>...</td>\n",
              "      <td>NaN</td>\n",
              "      <td>NaN</td>\n",
              "      <td>NaN</td>\n",
              "      <td>NaN</td>\n",
              "      <td>NaN</td>\n",
              "      <td>NaN</td>\n",
              "      <td>NaN</td>\n",
              "      <td>NaN</td>\n",
              "      <td>NaN</td>\n",
              "      <td>NaN</td>\n",
              "    </tr>\n",
              "  </tbody>\n",
              "</table>\n",
              "<p>3 rows × 3945 columns</p>\n",
              "</div>\n",
              "      <button class=\"colab-df-convert\" onclick=\"convertToInteractive('df-406bb3d2-a6a4-4bc9-a0dc-cca5534a90ff')\"\n",
              "              title=\"Convert this dataframe to an interactive table.\"\n",
              "              style=\"display:none;\">\n",
              "        \n",
              "  <svg xmlns=\"http://www.w3.org/2000/svg\" height=\"24px\"viewBox=\"0 0 24 24\"\n",
              "       width=\"24px\">\n",
              "    <path d=\"M0 0h24v24H0V0z\" fill=\"none\"/>\n",
              "    <path d=\"M18.56 5.44l.94 2.06.94-2.06 2.06-.94-2.06-.94-.94-2.06-.94 2.06-2.06.94zm-11 1L8.5 8.5l.94-2.06 2.06-.94-2.06-.94L8.5 2.5l-.94 2.06-2.06.94zm10 10l.94 2.06.94-2.06 2.06-.94-2.06-.94-.94-2.06-.94 2.06-2.06.94z\"/><path d=\"M17.41 7.96l-1.37-1.37c-.4-.4-.92-.59-1.43-.59-.52 0-1.04.2-1.43.59L10.3 9.45l-7.72 7.72c-.78.78-.78 2.05 0 2.83L4 21.41c.39.39.9.59 1.41.59.51 0 1.02-.2 1.41-.59l7.78-7.78 2.81-2.81c.8-.78.8-2.07 0-2.86zM5.41 20L4 18.59l7.72-7.72 1.47 1.35L5.41 20z\"/>\n",
              "  </svg>\n",
              "      </button>\n",
              "      \n",
              "  <style>\n",
              "    .colab-df-container {\n",
              "      display:flex;\n",
              "      flex-wrap:wrap;\n",
              "      gap: 12px;\n",
              "    }\n",
              "\n",
              "    .colab-df-convert {\n",
              "      background-color: #E8F0FE;\n",
              "      border: none;\n",
              "      border-radius: 50%;\n",
              "      cursor: pointer;\n",
              "      display: none;\n",
              "      fill: #1967D2;\n",
              "      height: 32px;\n",
              "      padding: 0 0 0 0;\n",
              "      width: 32px;\n",
              "    }\n",
              "\n",
              "    .colab-df-convert:hover {\n",
              "      background-color: #E2EBFA;\n",
              "      box-shadow: 0px 1px 2px rgba(60, 64, 67, 0.3), 0px 1px 3px 1px rgba(60, 64, 67, 0.15);\n",
              "      fill: #174EA6;\n",
              "    }\n",
              "\n",
              "    [theme=dark] .colab-df-convert {\n",
              "      background-color: #3B4455;\n",
              "      fill: #D2E3FC;\n",
              "    }\n",
              "\n",
              "    [theme=dark] .colab-df-convert:hover {\n",
              "      background-color: #434B5C;\n",
              "      box-shadow: 0px 1px 3px 1px rgba(0, 0, 0, 0.15);\n",
              "      filter: drop-shadow(0px 1px 2px rgba(0, 0, 0, 0.3));\n",
              "      fill: #FFFFFF;\n",
              "    }\n",
              "  </style>\n",
              "\n",
              "      <script>\n",
              "        const buttonEl =\n",
              "          document.querySelector('#df-406bb3d2-a6a4-4bc9-a0dc-cca5534a90ff button.colab-df-convert');\n",
              "        buttonEl.style.display =\n",
              "          google.colab.kernel.accessAllowed ? 'block' : 'none';\n",
              "\n",
              "        async function convertToInteractive(key) {\n",
              "          const element = document.querySelector('#df-406bb3d2-a6a4-4bc9-a0dc-cca5534a90ff');\n",
              "          const dataTable =\n",
              "            await google.colab.kernel.invokeFunction('convertToInteractive',\n",
              "                                                     [key], {});\n",
              "          if (!dataTable) return;\n",
              "\n",
              "          const docLinkHtml = 'Like what you see? Visit the ' +\n",
              "            '<a target=\"_blank\" href=https://colab.research.google.com/notebooks/data_table.ipynb>data table notebook</a>'\n",
              "            + ' to learn more about interactive tables.';\n",
              "          element.innerHTML = '';\n",
              "          dataTable['output_type'] = 'display_data';\n",
              "          await google.colab.output.renderOutput(dataTable, element);\n",
              "          const docLink = document.createElement('div');\n",
              "          docLink.innerHTML = docLinkHtml;\n",
              "          element.appendChild(docLink);\n",
              "        }\n",
              "      </script>\n",
              "    </div>\n",
              "  </div>\n",
              "  "
            ]
          },
          "metadata": {},
          "execution_count": 5
        }
      ]
    },
    {
      "cell_type": "markdown",
      "source": [
        "Almost 4000 features are created from my dataset! Here is the full list: https://tsfresh.readthedocs.io/en/latest/text/list_of_features.html"
      ],
      "metadata": {
        "id": "p8NNPaXDb0bK"
      }
    },
    {
      "cell_type": "code",
      "source": [
        "df_features = skopt.load(\"df_features.pkl\")\n",
        "df_features = df_features.reset_index(level=[0,1])\n",
        "df_features = df_features.dropna(axis=1, how='any')\n",
        "df_features = df_features.rename({'level_0': 'id', 'level_1': 'date'}, axis = 1)"
      ],
      "metadata": {
        "id": "G0sN9cYo5Usk"
      },
      "execution_count": 5,
      "outputs": []
    },
    {
      "cell_type": "markdown",
      "source": [
        "## More features \n",
        "\n",
        "Create more time series rolling features manually with a new N. This time I chose N = 3.\n",
        "\n",
        "* Mean 'adj_close' of each month\n",
        "* Difference between high and low of each day\n",
        "* Difference between open and close of each day\n",
        "* Mean volume of each month"
      ],
      "metadata": {
        "id": "JfnfroTRZT_U"
      }
    },
    {
      "cell_type": "code",
      "source": [
        "# Get difference between high and low of each day\n",
        "df['range_hl'] = df['high'] - df['low']\n",
        "\n",
        "# Get difference between open and close of each day\n",
        "df['range_oc'] = df['open'] - df['close']\n",
        "\n",
        "# Add a column 'order_day' to indicate the order of the rows by date\n",
        "df['order_day'] = [x for x in list(range(len(df)))]\n",
        "\n",
        "# merging_keys\n",
        "merging_keys = ['order_day']\n",
        "\n",
        "# List of columns that we will use to create lags\n",
        "lag_cols = ['adj_close', 'range_hl', 'range_oc', 'volume']\n",
        "\n",
        "N = 3  \n",
        "shift_range = [x+1 for x in range(N)]\n",
        "\n",
        "for shift in tqdm_notebook(shift_range):\n",
        "    train_shift = df[merging_keys + lag_cols].copy()\n",
        "    \n",
        "    # E.g. order_day of 0 becomes 1, for shift = 1.\n",
        "    # So when this is merged with order_day of 1 in df, this will represent lag of 1.\n",
        "    train_shift['order_day'] = train_shift['order_day'] + shift\n",
        "    \n",
        "    foo = lambda x: '{}_lag_{}'.format(x, shift) if x in lag_cols else x\n",
        "    train_shift = train_shift.rename(columns=foo)\n",
        "\n",
        "    df = pd.merge(df, train_shift, on=merging_keys, how='left') #.fillna(0)\n",
        "    \n",
        "del train_shift"
      ],
      "metadata": {
        "colab": {
          "base_uri": "https://localhost:8080/",
          "height": 49,
          "referenced_widgets": [
            "cd4da867b21649eab062750137ca3696",
            "8718c3563e0041709bf7b4c33d844883",
            "3047972f4b774bb6bf65f74963f90816",
            "f3cc47e629cc4b30891c096e9f70c643",
            "707679c695124c2397293e1c59991fc8",
            "c6209706c3fb45b1b1553070bea026dc",
            "9661b02fc1af4cf1a4e0e978d6f4de74",
            "9eef03528a9242cda497487293ef9b9d",
            "24d411e7b13c41c3b8dd80b6b0b7a1c0",
            "8e099eccd74a423596b899490c5c47ef",
            "88b9370604ed4d088a2079f9ff3a3113"
          ]
        },
        "id": "dPzrF8gSDAFY",
        "outputId": "85c9f644-717f-4c24-9e6b-7956168d15f2"
      },
      "execution_count": 6,
      "outputs": [
        {
          "output_type": "display_data",
          "data": {
            "text/plain": [
              "  0%|          | 0/3 [00:00<?, ?it/s]"
            ],
            "application/vnd.jupyter.widget-view+json": {
              "version_major": 2,
              "version_minor": 0,
              "model_id": "cd4da867b21649eab062750137ca3696"
            }
          },
          "metadata": {}
        }
      ]
    },
    {
      "cell_type": "markdown",
      "source": [
        "I merge the auto-generated features and manually generated dfeatures together as our feature candicate pool. This is all features that there is that COULD build a accurate model. But I do not know which ones are really informative and which ones are just weakly relavent. Yet!"
      ],
      "metadata": {
        "id": "3gY2mSXMb_41"
      }
    },
    {
      "cell_type": "code",
      "source": [
        "df_all_features = df.merge(df_features, left_on = \"date\", right_on = \"date\")\n",
        "df_all_features = df_all_features.drop([\"chng\", \"ret\", \"adj_close\"], axis=1)\n",
        "df_all_features = df_all_features.dropna(axis=1, how='any')"
      ],
      "metadata": {
        "id": "L1TXBTB5guRX"
      },
      "execution_count": 7,
      "outputs": []
    },
    {
      "cell_type": "markdown",
      "source": [
        "tsfresh have built in feature filtering function. To limit the number of irrelevant features, tsfresh deploys the fresh algorithm (fresh stands for FeatuRe Extraction based on Scalable Hypothesis tests). It is an efficient, scalable feature extraction algorithm, which filters the available features in an early stage of the machine learning pipeline with respect to their significance for the classification or regression task, while controlling the expected percentage of selected but irrelevant features. [(reference)](https://tsfresh.readthedocs.io/en/latest/text/feature_filtering.html)"
      ],
      "metadata": {
        "id": "4a_JMuOvclv0"
      }
    },
    {
      "cell_type": "code",
      "source": [
        "from tsfresh import extract_features\n",
        "from tsfresh.feature_selection.relevance import calculate_relevance_table\n",
        "relevance_table = calculate_relevance_table(df_all_features, df['chng'])\n",
        "relevance_table = relevance_table[relevance_table.relevant]\n",
        "relevance_table.sort_values(\"p_value\", inplace=True)\n",
        "relevance_table = relevance_table.reset_index(drop = True)\n",
        "relevance_table\n"
      ],
      "metadata": {
        "colab": {
          "base_uri": "https://localhost:8080/",
          "height": 424
        },
        "id": "SBmBVkrJCYE3",
        "outputId": "54da52cd-0a88-442e-d8d7-79f48a0e0454"
      },
      "execution_count": 8,
      "outputs": [
        {
          "output_type": "execute_result",
          "data": {
            "text/plain": [
              "                                              feature  type        p_value  \\\n",
              "0                                            range_oc  real  1.641771e-177   \n",
              "1   close__energy_ratio_by_chunks__num_segments_10...  real   1.599245e-82   \n",
              "2                            close__number_peaks__n_1  real   3.685120e-46   \n",
              "3   close__change_quantiles__f_agg_\"mean\"__isabs_F...  real   1.308765e-36   \n",
              "4   low__energy_ratio_by_chunks__num_segments_10__...  real   7.598428e-36   \n",
              "..                                                ...   ...            ...   \n",
              "76      low__time_reversal_asymmetry_statistic__lag_2  real   2.998441e-04   \n",
              "77  open__change_quantiles__f_agg_\"mean\"__isabs_Fa...  real   3.128749e-04   \n",
              "78  open__change_quantiles__f_agg_\"var\"__isabs_Tru...  real   3.239422e-04   \n",
              "79  close__energy_ratio_by_chunks__num_segments_10...  real   3.280027e-04   \n",
              "80  high__change_quantiles__f_agg_\"var\"__isabs_Tru...  real   5.905615e-04   \n",
              "\n",
              "    relevant  \n",
              "0       True  \n",
              "1       True  \n",
              "2       True  \n",
              "3       True  \n",
              "4       True  \n",
              "..       ...  \n",
              "76      True  \n",
              "77      True  \n",
              "78      True  \n",
              "79      True  \n",
              "80      True  \n",
              "\n",
              "[81 rows x 4 columns]"
            ],
            "text/html": [
              "\n",
              "  <div id=\"df-6d645655-ec56-4719-a0b4-eb30dcafdfd0\">\n",
              "    <div class=\"colab-df-container\">\n",
              "      <div>\n",
              "<style scoped>\n",
              "    .dataframe tbody tr th:only-of-type {\n",
              "        vertical-align: middle;\n",
              "    }\n",
              "\n",
              "    .dataframe tbody tr th {\n",
              "        vertical-align: top;\n",
              "    }\n",
              "\n",
              "    .dataframe thead th {\n",
              "        text-align: right;\n",
              "    }\n",
              "</style>\n",
              "<table border=\"1\" class=\"dataframe\">\n",
              "  <thead>\n",
              "    <tr style=\"text-align: right;\">\n",
              "      <th></th>\n",
              "      <th>feature</th>\n",
              "      <th>type</th>\n",
              "      <th>p_value</th>\n",
              "      <th>relevant</th>\n",
              "    </tr>\n",
              "  </thead>\n",
              "  <tbody>\n",
              "    <tr>\n",
              "      <th>0</th>\n",
              "      <td>range_oc</td>\n",
              "      <td>real</td>\n",
              "      <td>1.641771e-177</td>\n",
              "      <td>True</td>\n",
              "    </tr>\n",
              "    <tr>\n",
              "      <th>1</th>\n",
              "      <td>close__energy_ratio_by_chunks__num_segments_10...</td>\n",
              "      <td>real</td>\n",
              "      <td>1.599245e-82</td>\n",
              "      <td>True</td>\n",
              "    </tr>\n",
              "    <tr>\n",
              "      <th>2</th>\n",
              "      <td>close__number_peaks__n_1</td>\n",
              "      <td>real</td>\n",
              "      <td>3.685120e-46</td>\n",
              "      <td>True</td>\n",
              "    </tr>\n",
              "    <tr>\n",
              "      <th>3</th>\n",
              "      <td>close__change_quantiles__f_agg_\"mean\"__isabs_F...</td>\n",
              "      <td>real</td>\n",
              "      <td>1.308765e-36</td>\n",
              "      <td>True</td>\n",
              "    </tr>\n",
              "    <tr>\n",
              "      <th>4</th>\n",
              "      <td>low__energy_ratio_by_chunks__num_segments_10__...</td>\n",
              "      <td>real</td>\n",
              "      <td>7.598428e-36</td>\n",
              "      <td>True</td>\n",
              "    </tr>\n",
              "    <tr>\n",
              "      <th>...</th>\n",
              "      <td>...</td>\n",
              "      <td>...</td>\n",
              "      <td>...</td>\n",
              "      <td>...</td>\n",
              "    </tr>\n",
              "    <tr>\n",
              "      <th>76</th>\n",
              "      <td>low__time_reversal_asymmetry_statistic__lag_2</td>\n",
              "      <td>real</td>\n",
              "      <td>2.998441e-04</td>\n",
              "      <td>True</td>\n",
              "    </tr>\n",
              "    <tr>\n",
              "      <th>77</th>\n",
              "      <td>open__change_quantiles__f_agg_\"mean\"__isabs_Fa...</td>\n",
              "      <td>real</td>\n",
              "      <td>3.128749e-04</td>\n",
              "      <td>True</td>\n",
              "    </tr>\n",
              "    <tr>\n",
              "      <th>78</th>\n",
              "      <td>open__change_quantiles__f_agg_\"var\"__isabs_Tru...</td>\n",
              "      <td>real</td>\n",
              "      <td>3.239422e-04</td>\n",
              "      <td>True</td>\n",
              "    </tr>\n",
              "    <tr>\n",
              "      <th>79</th>\n",
              "      <td>close__energy_ratio_by_chunks__num_segments_10...</td>\n",
              "      <td>real</td>\n",
              "      <td>3.280027e-04</td>\n",
              "      <td>True</td>\n",
              "    </tr>\n",
              "    <tr>\n",
              "      <th>80</th>\n",
              "      <td>high__change_quantiles__f_agg_\"var\"__isabs_Tru...</td>\n",
              "      <td>real</td>\n",
              "      <td>5.905615e-04</td>\n",
              "      <td>True</td>\n",
              "    </tr>\n",
              "  </tbody>\n",
              "</table>\n",
              "<p>81 rows × 4 columns</p>\n",
              "</div>\n",
              "      <button class=\"colab-df-convert\" onclick=\"convertToInteractive('df-6d645655-ec56-4719-a0b4-eb30dcafdfd0')\"\n",
              "              title=\"Convert this dataframe to an interactive table.\"\n",
              "              style=\"display:none;\">\n",
              "        \n",
              "  <svg xmlns=\"http://www.w3.org/2000/svg\" height=\"24px\"viewBox=\"0 0 24 24\"\n",
              "       width=\"24px\">\n",
              "    <path d=\"M0 0h24v24H0V0z\" fill=\"none\"/>\n",
              "    <path d=\"M18.56 5.44l.94 2.06.94-2.06 2.06-.94-2.06-.94-.94-2.06-.94 2.06-2.06.94zm-11 1L8.5 8.5l.94-2.06 2.06-.94-2.06-.94L8.5 2.5l-.94 2.06-2.06.94zm10 10l.94 2.06.94-2.06 2.06-.94-2.06-.94-.94-2.06-.94 2.06-2.06.94z\"/><path d=\"M17.41 7.96l-1.37-1.37c-.4-.4-.92-.59-1.43-.59-.52 0-1.04.2-1.43.59L10.3 9.45l-7.72 7.72c-.78.78-.78 2.05 0 2.83L4 21.41c.39.39.9.59 1.41.59.51 0 1.02-.2 1.41-.59l7.78-7.78 2.81-2.81c.8-.78.8-2.07 0-2.86zM5.41 20L4 18.59l7.72-7.72 1.47 1.35L5.41 20z\"/>\n",
              "  </svg>\n",
              "      </button>\n",
              "      \n",
              "  <style>\n",
              "    .colab-df-container {\n",
              "      display:flex;\n",
              "      flex-wrap:wrap;\n",
              "      gap: 12px;\n",
              "    }\n",
              "\n",
              "    .colab-df-convert {\n",
              "      background-color: #E8F0FE;\n",
              "      border: none;\n",
              "      border-radius: 50%;\n",
              "      cursor: pointer;\n",
              "      display: none;\n",
              "      fill: #1967D2;\n",
              "      height: 32px;\n",
              "      padding: 0 0 0 0;\n",
              "      width: 32px;\n",
              "    }\n",
              "\n",
              "    .colab-df-convert:hover {\n",
              "      background-color: #E2EBFA;\n",
              "      box-shadow: 0px 1px 2px rgba(60, 64, 67, 0.3), 0px 1px 3px 1px rgba(60, 64, 67, 0.15);\n",
              "      fill: #174EA6;\n",
              "    }\n",
              "\n",
              "    [theme=dark] .colab-df-convert {\n",
              "      background-color: #3B4455;\n",
              "      fill: #D2E3FC;\n",
              "    }\n",
              "\n",
              "    [theme=dark] .colab-df-convert:hover {\n",
              "      background-color: #434B5C;\n",
              "      box-shadow: 0px 1px 3px 1px rgba(0, 0, 0, 0.15);\n",
              "      filter: drop-shadow(0px 1px 2px rgba(0, 0, 0, 0.3));\n",
              "      fill: #FFFFFF;\n",
              "    }\n",
              "  </style>\n",
              "\n",
              "      <script>\n",
              "        const buttonEl =\n",
              "          document.querySelector('#df-6d645655-ec56-4719-a0b4-eb30dcafdfd0 button.colab-df-convert');\n",
              "        buttonEl.style.display =\n",
              "          google.colab.kernel.accessAllowed ? 'block' : 'none';\n",
              "\n",
              "        async function convertToInteractive(key) {\n",
              "          const element = document.querySelector('#df-6d645655-ec56-4719-a0b4-eb30dcafdfd0');\n",
              "          const dataTable =\n",
              "            await google.colab.kernel.invokeFunction('convertToInteractive',\n",
              "                                                     [key], {});\n",
              "          if (!dataTable) return;\n",
              "\n",
              "          const docLinkHtml = 'Like what you see? Visit the ' +\n",
              "            '<a target=\"_blank\" href=https://colab.research.google.com/notebooks/data_table.ipynb>data table notebook</a>'\n",
              "            + ' to learn more about interactive tables.';\n",
              "          element.innerHTML = '';\n",
              "          dataTable['output_type'] = 'display_data';\n",
              "          await google.colab.output.renderOutput(dataTable, element);\n",
              "          const docLink = document.createElement('div');\n",
              "          docLink.innerHTML = docLinkHtml;\n",
              "          element.appendChild(docLink);\n",
              "        }\n",
              "      </script>\n",
              "    </div>\n",
              "  </div>\n",
              "  "
            ]
          },
          "metadata": {},
          "execution_count": 8
        }
      ]
    },
    {
      "cell_type": "markdown",
      "source": [
        "The above table is the relavent features selected by the filtering algorithm based on their statistical significance. This final 81 features are the ones I am going to train the model on. "
      ],
      "metadata": {
        "id": "-NAGD5lldsMY"
      }
    },
    {
      "cell_type": "code",
      "source": [
        "# Organize the feature data\n",
        "df_rlvt_features = df_all_features[['date'] + relevance_table['feature'].to_list()]\n",
        "df_merge = df.merge(df_rlvt_features, left_on = \"date\", right_on = \"date\")\n",
        "df_merge = df_merge.dropna(axis=1, how='any')\n",
        "df_merge['month'] = df_merge['date'].dt.month\n",
        "df_merge = df_merge.drop([\"ret\", \"adj_close\", \"id\", 'order_day'], axis=1)"
      ],
      "metadata": {
        "id": "XncRW8Ppsmie"
      },
      "execution_count": 11,
      "outputs": []
    },
    {
      "cell_type": "markdown",
      "source": [
        "# Create training, dev, and test dataset\n",
        "\n",
        "* Training Dataset: The sample of data used to fit the model.\n",
        "* Validation Dataset: The sample of data used to provide an unbiased evaluation of a model fit on the training dataset while tuning model hyperparameters. \n",
        "* Test Dataset: The sample of data used to provide an unbiased evaluation of a final model fit on the training dataset.\n",
        "![Screen Shot 2022-11-20 at 6.28.38 PM.png](data:image/png;base64,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)\n"
      ],
      "metadata": {
        "id": "DoNKi1xg98Rl"
      }
    },
    {
      "cell_type": "code",
      "source": [
        "from datetime import datetime\n",
        "df_merge.sort_values(by='date', inplace=True, ascending=True)\n",
        "\n",
        "num_cut1 = int(len(df_merge) * 0.8)\n",
        "num_cut2 = int(len(df_merge) * 0.9)\n",
        "\n",
        "split_date_1 = df_merge['date'][num_cut1]\n",
        "split_date_2 = df_merge['date'][num_cut2]\n",
        "\n",
        "print(str(split_date_1) + '      ' + str(split_date_2)) \n",
        "print(str(num_cut1) + '                     ' + str(num_cut2)) "
      ],
      "metadata": {
        "colab": {
          "base_uri": "https://localhost:8080/"
        },
        "id": "D-gltkfCgvQ4",
        "outputId": "9040ed48-c37b-4c4e-fd47-17262e35b380"
      },
      "execution_count": 12,
      "outputs": [
        {
          "output_type": "stream",
          "name": "stdout",
          "text": [
            "2020-10-05 00:00:00      2021-06-17 00:00:00\n",
            "1409                     1585\n"
          ]
        }
      ]
    },
    {
      "cell_type": "code",
      "source": [
        "# Split into train, cv, and test\n",
        "train = df_merge[:num_cut1]\n",
        "cv = df_merge[num_cut1:num_cut2]\n",
        "train_cv = df_merge[:num_cut2]\n",
        "test = df_merge[num_cut2:]\n",
        "print(\"train.shape = \" + str(train.shape))\n",
        "print(\"cv.shape = \" + str(cv.shape))\n",
        "print(\"train_cv.shape = \" + str(train_cv.shape))\n",
        "print(\"test.shape = \" + str(test.shape))"
      ],
      "metadata": {
        "colab": {
          "base_uri": "https://localhost:8080/"
        },
        "id": "LibBIcmvhEQe",
        "outputId": "46606b17-2a5c-4579-ecd4-651f6dd8af1f"
      },
      "execution_count": 13,
      "outputs": [
        {
          "output_type": "stream",
          "name": "stdout",
          "text": [
            "train.shape = (1409, 91)\n",
            "cv.shape = (176, 91)\n",
            "train_cv.shape = (1585, 91)\n",
            "test.shape = (177, 91)\n"
          ]
        }
      ]
    },
    {
      "cell_type": "markdown",
      "source": [
        "## Feature scaling\n",
        "\n",
        "Machine Learning models don't generalize as well on data with high scale variance, so I will adjust the features to a common scale. This process is called Standardizing and will scale data into mean value of 0 and a standard deviation of 1. It's more useful and common for classification tasks.\n",
        "\n",
        "Example:\n",
        "\n",
        "\n",
        "![Screen Shot 2022-11-20 at 6.42.26 PM.png](data:image/png;base64,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)\n",
        "\n",
        "\n",
        "[(reference)](https://www.cnblogs.com/quinn-yann/p/9808247.html)"
      ],
      "metadata": {
        "id": "qS8JKnkYlxt1"
      }
    },
    {
      "cell_type": "code",
      "source": [
        "# Get rid of final target and columns that does not need scaling.\n",
        "cols_to_scale = list(df_merge.columns)\n",
        "# items to be removed\n",
        "no_scale = ['date', 'chng', 'month']\n",
        "cols_to_scale = [ele for ele in cols_to_scale if ele not in no_scale]"
      ],
      "metadata": {
        "id": "QuOJCijiVWrZ"
      },
      "execution_count": 14,
      "outputs": []
    },
    {
      "cell_type": "markdown",
      "source": [
        "Here we only scale the train dataset, and not the entire dataset to prevent information leak. Data leakage is when information from outside the training dataset is used to create the model. This additional information can allow the model to learn or know something that it otherwise would not know and in turn invalidate the estimated performance of the mode being constructed. Thus we should not standardize the entire dataset. \n",
        "\n",
        "\n",
        "\n"
      ],
      "metadata": {
        "id": "a0zM8BtkuRpz"
      }
    },
    {
      "cell_type": "code",
      "source": [
        "# Do scaling for train set\n",
        "scaler = StandardScaler()\n",
        "train_scaled = scaler.fit_transform(train[cols_to_scale])\n",
        "# Convert the numpy array back into pandas dataframe\n",
        "train_scaled = pd.DataFrame(train_scaled, columns=cols_to_scale)\n",
        "train_scaled[no_scale] = train.reset_index()[no_scale]\n",
        "train_scaled.head()"
      ],
      "metadata": {
        "colab": {
          "base_uri": "https://localhost:8080/",
          "height": 386
        },
        "id": "YEFLg2xgiV6g",
        "outputId": "b5614df1-34f0-4fe1-a77a-5260227e2068"
      },
      "execution_count": 15,
      "outputs": [
        {
          "output_type": "execute_result",
          "data": {
            "text/plain": [
              "       high       low      open     close    volume  range_hl  range_oc_x  \\\n",
              "0  0.865029  0.878526  0.898131  0.873213 -0.128971 -0.503104    0.343832   \n",
              "1  0.860472  0.863544  0.900397  0.840105 -0.132008 -0.295412    0.919467   \n",
              "2  0.801986  0.832831  0.833144  0.806996 -0.240965 -0.829470    0.368332   \n",
              "3  0.757171  0.742938  0.783271  0.723473  0.169699  0.075470    0.919477   \n",
              "4  0.740461  0.727956  0.761357  0.688107 -0.011900  0.045793    1.139923   \n",
              "\n",
              "   range_oc_y  \\\n",
              "0    0.343832   \n",
              "1    0.919467   \n",
              "2    0.368332   \n",
              "3    0.919477   \n",
              "4    1.139923   \n",
              "\n",
              "   close__energy_ratio_by_chunks__num_segments_10__segment_focus_7  \\\n",
              "0                                         -11.719542                 \n",
              "1                                         -11.719542                 \n",
              "2                                         -11.719542                 \n",
              "3                                         -11.719542                 \n",
              "4                                         -11.719542                 \n",
              "\n",
              "   close__number_peaks__n_1  ...  \\\n",
              "0                  -2.16427  ...   \n",
              "1                  -2.16427  ...   \n",
              "2                  -2.16427  ...   \n",
              "3                  -2.16427  ...   \n",
              "4                  -2.16427  ...   \n",
              "\n",
              "   high__change_quantiles__f_agg_\"mean\"__isabs_False__qh_1.0__ql_0.6  \\\n",
              "0                                           0.141344                   \n",
              "1                                           0.141344                   \n",
              "2                                           0.141344                   \n",
              "3                                           0.038421                   \n",
              "4                                           0.038421                   \n",
              "\n",
              "   close__energy_ratio_by_chunks__num_segments_10__segment_focus_6  \\\n",
              "0                                         -13.108175                 \n",
              "1                                         -13.108175                 \n",
              "2                                         -13.108175                 \n",
              "3                                         -13.108175                 \n",
              "4                                         -13.108175                 \n",
              "\n",
              "   low__time_reversal_asymmetry_statistic__lag_2  \\\n",
              "0                                       0.063552   \n",
              "1                                       0.063552   \n",
              "2                                       0.063552   \n",
              "3                                       0.063552   \n",
              "4                                      -1.545110   \n",
              "\n",
              "   open__change_quantiles__f_agg_\"mean\"__isabs_False__qh_0.4__ql_0.0  \\\n",
              "0                                           0.078673                   \n",
              "1                                           0.078673                   \n",
              "2                                           0.078673                   \n",
              "3                                          -0.877804                   \n",
              "4                                          -0.341601                   \n",
              "\n",
              "   open__change_quantiles__f_agg_\"var\"__isabs_True__qh_0.6__ql_0.2  \\\n",
              "0                                          -0.133575                 \n",
              "1                                          -0.133575                 \n",
              "2                                          -0.133575                 \n",
              "3                                          -0.133575                 \n",
              "4                                          -0.133575                 \n",
              "\n",
              "   close__energy_ratio_by_chunks__num_segments_10__segment_focus_0  \\\n",
              "0                                          32.309569                 \n",
              "1                                          13.900584                 \n",
              "2                                           7.764672                 \n",
              "3                                           4.732933                 \n",
              "4                                           2.904148                 \n",
              "\n",
              "   high__change_quantiles__f_agg_\"var\"__isabs_True__qh_1.0__ql_0.6       date  \\\n",
              "0                                          -0.280923               2015-03-03   \n",
              "1                                          -0.280923               2015-03-04   \n",
              "2                                          -0.280923               2015-03-05   \n",
              "3                                          -0.280923               2015-03-06   \n",
              "4                                          -0.280923               2015-03-09   \n",
              "\n",
              "   chng  month  \n",
              "0     0      3  \n",
              "1     0      3  \n",
              "2     0      3  \n",
              "3     0      3  \n",
              "4     0      3  \n",
              "\n",
              "[5 rows x 91 columns]"
            ],
            "text/html": [
              "\n",
              "  <div id=\"df-4ee7322e-45d7-4639-8699-e11b8082f397\">\n",
              "    <div class=\"colab-df-container\">\n",
              "      <div>\n",
              "<style scoped>\n",
              "    .dataframe tbody tr th:only-of-type {\n",
              "        vertical-align: middle;\n",
              "    }\n",
              "\n",
              "    .dataframe tbody tr th {\n",
              "        vertical-align: top;\n",
              "    }\n",
              "\n",
              "    .dataframe thead th {\n",
              "        text-align: right;\n",
              "    }\n",
              "</style>\n",
              "<table border=\"1\" class=\"dataframe\">\n",
              "  <thead>\n",
              "    <tr style=\"text-align: right;\">\n",
              "      <th></th>\n",
              "      <th>high</th>\n",
              "      <th>low</th>\n",
              "      <th>open</th>\n",
              "      <th>close</th>\n",
              "      <th>volume</th>\n",
              "      <th>range_hl</th>\n",
              "      <th>range_oc_x</th>\n",
              "      <th>range_oc_y</th>\n",
              "      <th>close__energy_ratio_by_chunks__num_segments_10__segment_focus_7</th>\n",
              "      <th>close__number_peaks__n_1</th>\n",
              "      <th>...</th>\n",
              "      <th>high__change_quantiles__f_agg_\"mean\"__isabs_False__qh_1.0__ql_0.6</th>\n",
              "      <th>close__energy_ratio_by_chunks__num_segments_10__segment_focus_6</th>\n",
              "      <th>low__time_reversal_asymmetry_statistic__lag_2</th>\n",
              "      <th>open__change_quantiles__f_agg_\"mean\"__isabs_False__qh_0.4__ql_0.0</th>\n",
              "      <th>open__change_quantiles__f_agg_\"var\"__isabs_True__qh_0.6__ql_0.2</th>\n",
              "      <th>close__energy_ratio_by_chunks__num_segments_10__segment_focus_0</th>\n",
              "      <th>high__change_quantiles__f_agg_\"var\"__isabs_True__qh_1.0__ql_0.6</th>\n",
              "      <th>date</th>\n",
              "      <th>chng</th>\n",
              "      <th>month</th>\n",
              "    </tr>\n",
              "  </thead>\n",
              "  <tbody>\n",
              "    <tr>\n",
              "      <th>0</th>\n",
              "      <td>0.865029</td>\n",
              "      <td>0.878526</td>\n",
              "      <td>0.898131</td>\n",
              "      <td>0.873213</td>\n",
              "      <td>-0.128971</td>\n",
              "      <td>-0.503104</td>\n",
              "      <td>0.343832</td>\n",
              "      <td>0.343832</td>\n",
              "      <td>-11.719542</td>\n",
              "      <td>-2.16427</td>\n",
              "      <td>...</td>\n",
              "      <td>0.141344</td>\n",
              "      <td>-13.108175</td>\n",
              "      <td>0.063552</td>\n",
              "      <td>0.078673</td>\n",
              "      <td>-0.133575</td>\n",
              "      <td>32.309569</td>\n",
              "      <td>-0.280923</td>\n",
              "      <td>2015-03-03</td>\n",
              "      <td>0</td>\n",
              "      <td>3</td>\n",
              "    </tr>\n",
              "    <tr>\n",
              "      <th>1</th>\n",
              "      <td>0.860472</td>\n",
              "      <td>0.863544</td>\n",
              "      <td>0.900397</td>\n",
              "      <td>0.840105</td>\n",
              "      <td>-0.132008</td>\n",
              "      <td>-0.295412</td>\n",
              "      <td>0.919467</td>\n",
              "      <td>0.919467</td>\n",
              "      <td>-11.719542</td>\n",
              "      <td>-2.16427</td>\n",
              "      <td>...</td>\n",
              "      <td>0.141344</td>\n",
              "      <td>-13.108175</td>\n",
              "      <td>0.063552</td>\n",
              "      <td>0.078673</td>\n",
              "      <td>-0.133575</td>\n",
              "      <td>13.900584</td>\n",
              "      <td>-0.280923</td>\n",
              "      <td>2015-03-04</td>\n",
              "      <td>0</td>\n",
              "      <td>3</td>\n",
              "    </tr>\n",
              "    <tr>\n",
              "      <th>2</th>\n",
              "      <td>0.801986</td>\n",
              "      <td>0.832831</td>\n",
              "      <td>0.833144</td>\n",
              "      <td>0.806996</td>\n",
              "      <td>-0.240965</td>\n",
              "      <td>-0.829470</td>\n",
              "      <td>0.368332</td>\n",
              "      <td>0.368332</td>\n",
              "      <td>-11.719542</td>\n",
              "      <td>-2.16427</td>\n",
              "      <td>...</td>\n",
              "      <td>0.141344</td>\n",
              "      <td>-13.108175</td>\n",
              "      <td>0.063552</td>\n",
              "      <td>0.078673</td>\n",
              "      <td>-0.133575</td>\n",
              "      <td>7.764672</td>\n",
              "      <td>-0.280923</td>\n",
              "      <td>2015-03-05</td>\n",
              "      <td>0</td>\n",
              "      <td>3</td>\n",
              "    </tr>\n",
              "    <tr>\n",
              "      <th>3</th>\n",
              "      <td>0.757171</td>\n",
              "      <td>0.742938</td>\n",
              "      <td>0.783271</td>\n",
              "      <td>0.723473</td>\n",
              "      <td>0.169699</td>\n",
              "      <td>0.075470</td>\n",
              "      <td>0.919477</td>\n",
              "      <td>0.919477</td>\n",
              "      <td>-11.719542</td>\n",
              "      <td>-2.16427</td>\n",
              "      <td>...</td>\n",
              "      <td>0.038421</td>\n",
              "      <td>-13.108175</td>\n",
              "      <td>0.063552</td>\n",
              "      <td>-0.877804</td>\n",
              "      <td>-0.133575</td>\n",
              "      <td>4.732933</td>\n",
              "      <td>-0.280923</td>\n",
              "      <td>2015-03-06</td>\n",
              "      <td>0</td>\n",
              "      <td>3</td>\n",
              "    </tr>\n",
              "    <tr>\n",
              "      <th>4</th>\n",
              "      <td>0.740461</td>\n",
              "      <td>0.727956</td>\n",
              "      <td>0.761357</td>\n",
              "      <td>0.688107</td>\n",
              "      <td>-0.011900</td>\n",
              "      <td>0.045793</td>\n",
              "      <td>1.139923</td>\n",
              "      <td>1.139923</td>\n",
              "      <td>-11.719542</td>\n",
              "      <td>-2.16427</td>\n",
              "      <td>...</td>\n",
              "      <td>0.038421</td>\n",
              "      <td>-13.108175</td>\n",
              "      <td>-1.545110</td>\n",
              "      <td>-0.341601</td>\n",
              "      <td>-0.133575</td>\n",
              "      <td>2.904148</td>\n",
              "      <td>-0.280923</td>\n",
              "      <td>2015-03-09</td>\n",
              "      <td>0</td>\n",
              "      <td>3</td>\n",
              "    </tr>\n",
              "  </tbody>\n",
              "</table>\n",
              "<p>5 rows × 91 columns</p>\n",
              "</div>\n",
              "      <button class=\"colab-df-convert\" onclick=\"convertToInteractive('df-4ee7322e-45d7-4639-8699-e11b8082f397')\"\n",
              "              title=\"Convert this dataframe to an interactive table.\"\n",
              "              style=\"display:none;\">\n",
              "        \n",
              "  <svg xmlns=\"http://www.w3.org/2000/svg\" height=\"24px\"viewBox=\"0 0 24 24\"\n",
              "       width=\"24px\">\n",
              "    <path d=\"M0 0h24v24H0V0z\" fill=\"none\"/>\n",
              "    <path d=\"M18.56 5.44l.94 2.06.94-2.06 2.06-.94-2.06-.94-.94-2.06-.94 2.06-2.06.94zm-11 1L8.5 8.5l.94-2.06 2.06-.94-2.06-.94L8.5 2.5l-.94 2.06-2.06.94zm10 10l.94 2.06.94-2.06 2.06-.94-2.06-.94-.94-2.06-.94 2.06-2.06.94z\"/><path d=\"M17.41 7.96l-1.37-1.37c-.4-.4-.92-.59-1.43-.59-.52 0-1.04.2-1.43.59L10.3 9.45l-7.72 7.72c-.78.78-.78 2.05 0 2.83L4 21.41c.39.39.9.59 1.41.59.51 0 1.02-.2 1.41-.59l7.78-7.78 2.81-2.81c.8-.78.8-2.07 0-2.86zM5.41 20L4 18.59l7.72-7.72 1.47 1.35L5.41 20z\"/>\n",
              "  </svg>\n",
              "      </button>\n",
              "      \n",
              "  <style>\n",
              "    .colab-df-container {\n",
              "      display:flex;\n",
              "      flex-wrap:wrap;\n",
              "      gap: 12px;\n",
              "    }\n",
              "\n",
              "    .colab-df-convert {\n",
              "      background-color: #E8F0FE;\n",
              "      border: none;\n",
              "      border-radius: 50%;\n",
              "      cursor: pointer;\n",
              "      display: none;\n",
              "      fill: #1967D2;\n",
              "      height: 32px;\n",
              "      padding: 0 0 0 0;\n",
              "      width: 32px;\n",
              "    }\n",
              "\n",
              "    .colab-df-convert:hover {\n",
              "      background-color: #E2EBFA;\n",
              "      box-shadow: 0px 1px 2px rgba(60, 64, 67, 0.3), 0px 1px 3px 1px rgba(60, 64, 67, 0.15);\n",
              "      fill: #174EA6;\n",
              "    }\n",
              "\n",
              "    [theme=dark] .colab-df-convert {\n",
              "      background-color: #3B4455;\n",
              "      fill: #D2E3FC;\n",
              "    }\n",
              "\n",
              "    [theme=dark] .colab-df-convert:hover {\n",
              "      background-color: #434B5C;\n",
              "      box-shadow: 0px 1px 3px 1px rgba(0, 0, 0, 0.15);\n",
              "      filter: drop-shadow(0px 1px 2px rgba(0, 0, 0, 0.3));\n",
              "      fill: #FFFFFF;\n",
              "    }\n",
              "  </style>\n",
              "\n",
              "      <script>\n",
              "        const buttonEl =\n",
              "          document.querySelector('#df-4ee7322e-45d7-4639-8699-e11b8082f397 button.colab-df-convert');\n",
              "        buttonEl.style.display =\n",
              "          google.colab.kernel.accessAllowed ? 'block' : 'none';\n",
              "\n",
              "        async function convertToInteractive(key) {\n",
              "          const element = document.querySelector('#df-4ee7322e-45d7-4639-8699-e11b8082f397');\n",
              "          const dataTable =\n",
              "            await google.colab.kernel.invokeFunction('convertToInteractive',\n",
              "                                                     [key], {});\n",
              "          if (!dataTable) return;\n",
              "\n",
              "          const docLinkHtml = 'Like what you see? Visit the ' +\n",
              "            '<a target=\"_blank\" href=https://colab.research.google.com/notebooks/data_table.ipynb>data table notebook</a>'\n",
              "            + ' to learn more about interactive tables.';\n",
              "          element.innerHTML = '';\n",
              "          dataTable['output_type'] = 'display_data';\n",
              "          await google.colab.output.renderOutput(dataTable, element);\n",
              "          const docLink = document.createElement('div');\n",
              "          docLink.innerHTML = docLinkHtml;\n",
              "          element.appendChild(docLink);\n",
              "        }\n",
              "      </script>\n",
              "    </div>\n",
              "  </div>\n",
              "  "
            ]
          },
          "metadata": {},
          "execution_count": 15
        }
      ]
    },
    {
      "cell_type": "markdown",
      "source": [
        "What is being done here is calculating the parameters for standardizing data within training data itself and use those parameters to standardizing dev set and test set.[(reference)](https://machinelearningmastery.com/data-leakage-machine-learning/)\n",
        "\n",
        "Now we scale the dev set and test set onto the new distribution of training set."
      ],
      "metadata": {
        "id": "oyV6C9d3ubGc"
      }
    },
    {
      "cell_type": "code",
      "source": [
        "# Do scaling for dev set\n",
        "cv_no_scale = cv[no_scale].reset_index()\n",
        "cv_scaled = scaler.transform(cv[cols_to_scale])\n",
        "cv_scaled = pd.DataFrame(cv_scaled, columns = [cols_to_scale])\n",
        "for col in no_scale:\n",
        "  cv_scaled[col] = cv_no_scale[col]"
      ],
      "metadata": {
        "id": "XTZ8dj9D7W_3"
      },
      "execution_count": 16,
      "outputs": []
    },
    {
      "cell_type": "code",
      "source": [
        "# Do scaling for test set\n",
        "test_no_scale = test[no_scale].reset_index()\n",
        "test_scaled = scaler.transform(test[cols_to_scale])\n",
        "test_scaled = pd.DataFrame(test_scaled, columns = [cols_to_scale])\n",
        "for col in no_scale:\n",
        "  test_scaled[col] = test_no_scale[col]\n"
      ],
      "metadata": {
        "id": "R-MdiX0Qpd53"
      },
      "execution_count": 17,
      "outputs": []
    },
    {
      "cell_type": "markdown",
      "source": [
        "## Split into X and y\n",
        "\n",
        "X: features to train on.   \n",
        "y: target {'0', '1'}, which means stock price go up(1) or down(0)."
      ],
      "metadata": {
        "id": "XOC_EuWugoJL"
      }
    },
    {
      "cell_type": "code",
      "source": [
        "if \"month\" not in cols_to_scale:\n",
        "  cols_to_scale.append(\"month\")\n",
        "target = \"chng\"\n",
        "features = cols_to_scale.copy()\n",
        " \n",
        "# Split into X and y\n",
        "X_train_scaled = train_scaled[features]\n",
        "y_train_scaled = train_scaled[target]\n",
        "X_cv_scaled = cv_scaled[features]\n",
        "y_cv_scaled = cv_scaled[target]\n",
        "X_test_scaled = test_scaled[features]\n",
        "y_test_scaled = test_scaled[target]\n",
        "print(\"X_train_scaled.shape = \" + str(X_train_scaled.shape))\n",
        "print(\"y_train_scaled.shape = \" + str(y_train_scaled.shape))\n",
        "print(\"X_cv_scaled.shape = \" + str(X_cv_scaled.shape))\n",
        "print(\"y_cv_scaled.shape = \" + str(y_cv_scaled.shape))\n",
        "print(\"X_test_scaled.shape = \" + str(X_test_scaled.shape))\n",
        "print(\"y_test.shape = \" + str(y_test_scaled.shape))"
      ],
      "metadata": {
        "colab": {
          "base_uri": "https://localhost:8080/"
        },
        "id": "pe6XpHe7q25m",
        "outputId": "7e6669a8-e8ac-46b3-f679-d178604cc14a"
      },
      "execution_count": 18,
      "outputs": [
        {
          "output_type": "stream",
          "name": "stdout",
          "text": [
            "X_train_scaled.shape = (1409, 89)\n",
            "y_train_scaled.shape = (1409,)\n",
            "X_cv_scaled.shape = (176, 89)\n",
            "y_cv_scaled.shape = (176, 1)\n",
            "X_test_scaled.shape = (177, 89)\n",
            "y_test.shape = (177, 1)\n"
          ]
        }
      ]
    },
    {
      "cell_type": "markdown",
      "source": [
        "## Train the model\n",
        "\n",
        "There are 3 state-of-the-art algorithms when it comes to time series forcasting: ARIMA model, Long Short Term Memory (LSTM) model and Extreme Gradient Boosting (XGBoost) models. \n",
        "\n",
        "In [this paper](https://escholarship.org/uc/item/0zp9s76c), all three models produced good forecast of next day’s stock price. But XGBoost can provide feature importance analysis, which aids interpretability, and it requires least time for parameter tuning and forecast calculation. Due to the time-limit and computation power limit, natually I choose to train XGBoost model for stock direction forcasting.\n",
        "\n",
        "\n",
        "Machine learning models come with default parameters: if you do not assign a specific value or string to an optional parameter, the algorithm does it automatically by a preset value or string. However, optimal parameters may vary from one data set the to other, so default parameters are usually not optimal. One needs to find the optimal parameters by grid search, where the grid represents the experimental values of each parameter (n-dimensional space)."
      ],
      "metadata": {
        "id": "yy20nwMNwYuO"
      }
    },
    {
      "cell_type": "code",
      "source": [
        "# Create the default model\n",
        "# https://xgboost.readthedocs.io/en/stable/python/python_api.html#xgboost.XGBClassifier\n",
        "model = XGBClassifier(objective='binary:logistic',\n",
        "                          booster='gbtree',\n",
        "                          eval_metric='auc',\n",
        "                          tree_method='hist',\n",
        "                          grow_policy='lossguide',\n",
        "                          use_label_encoder=False)\n",
        "\n",
        "# Train the classifier\n",
        "model.fit(X_train_scaled, y_train_scaled)"
      ],
      "metadata": {
        "colab": {
          "base_uri": "https://localhost:8080/"
        },
        "id": "WJUPcvTSxeYu",
        "outputId": "b689f82a-b074-42b7-a6e4-426f82e7739d"
      },
      "execution_count": 144,
      "outputs": [
        {
          "output_type": "execute_result",
          "data": {
            "text/plain": [
              "XGBClassifier(eval_metric='auc', grow_policy='lossguide', tree_method='hist',\n",
              "              use_label_encoder=False)"
            ]
          },
          "metadata": {},
          "execution_count": 144
        }
      ]
    },
    {
      "cell_type": "code",
      "source": [
        "#extracting default parameters from benchmark model\n",
        "default_params = {}\n",
        "gparams = model.get_params()\n",
        "\n",
        "#default parameters have to be wrapped in lists - even single values - so GridSearchCV can take them as inputs\n",
        "for key in gparams.keys():\n",
        "    gp = gparams[key]\n",
        "    default_params[key] = [gp]\n",
        "\n",
        "#setting grid of selected parameters for iteration\n",
        "param_grid = {'gamma': [0,0.1,0.2,0.4,0.8,1.6,3.2,6.4,12.8,25.6,51.2,102.4, 200],\n",
        "              'learning_rate': [0.01, 0.03, 0.06, 0.1, 0.15, 0.2, 0.25, 0.300000012, 0.4, 0.5, 0.6, 0.7],\n",
        "              'max_depth': [5,6,7,8,9,10,11,12,13,14],\n",
        "              'n_estimators': [50,65,80,100,115,130,150],\n",
        "              'reg_alpha': [0,0.1,0.2,0.4,0.8,1.6,3.2,6.4,12.8,25.6,51.2,102.4,200],\n",
        "              'reg_lambda': [0,0.1,0.2,0.4,0.8,1.6,3.2,6.4,12.8,25.6,51.2,102.4,200]}\n",
        "\n",
        "#No. of jobs\n",
        "bcvj = np.cumsum([len(x) for x in param_grid.values()])[-1]\n",
        "bcvj = int(bcvj)\n",
        "\n",
        "#unwrapping list values of default parameters\n",
        "default_params_xgb = {}\n",
        "\n",
        "for key in default_params.keys():\n",
        "    default_params_xgb[key] = default_params[key][0]\n",
        "\n",
        "#providing default parameters to xgbc model, before Bayesian based search cross-validation\n",
        "xgbc = xgb.XGBClassifier(**default_params_xgb)\n",
        "\n"
      ],
      "metadata": {
        "id": "jgOK-1-aFHgq"
      },
      "execution_count": 145,
      "outputs": []
    },
    {
      "cell_type": "markdown",
      "source": [
        "Bayesian search — “an extremely powerful technique when the mathematical form of the function is unknown or expensive to compute. The main idea behind it is to compute a posterior distribution over the objective function based on the data (using the famous Bayes theorem), and then select good points to try with respect to this distribution”. [(reference)](https://cloud.google.com/blog/products/ai-machine-learning/hyperparameter-tuning-cloud-machine-learning-engine-using-bayesian-optimization)"
      ],
      "metadata": {
        "id": "6UjTo6Tc4qZg"
      }
    },
    {
      "cell_type": "code",
      "source": [
        "clf = BayesSearchCV(estimator=xgbc, search_spaces=param_grid, n_iter=bcvj, scoring='accuracy', cv=3, return_train_score=True, verbose=3)\n",
        "clf.fit(X_train_scaled, y_train_scaled.values.ravel())\n",
        "file_dir = \"/content/drive/MyDrive/Colab Notebooks/\"\n",
        "import skopt\n",
        "skopt.dump(clf, file_dir + \"xgboost_stock_price_tuned.pkl\")"
      ],
      "metadata": {
        "id": "HDcSIpg_IwUd"
      },
      "execution_count": null,
      "outputs": []
    },
    {
      "cell_type": "code",
      "source": [
        "clf = skopt.load(file_dir + \"xgboost_stock_price_tuned.pkl\")"
      ],
      "metadata": {
        "id": "imP7ubURTGDY"
      },
      "execution_count": 19,
      "outputs": []
    },
    {
      "cell_type": "code",
      "source": [
        "#results dataframe\n",
        "df = pd.DataFrame(clf.cv_results_)"
      ],
      "metadata": {
        "id": "yFr4V-CceBqY"
      },
      "execution_count": 20,
      "outputs": []
    },
    {
      "cell_type": "code",
      "source": [
        "#predictions - inputs to confusion matrix\n",
        "train_predictions = clf.predict(X_train_scaled)\n",
        "test_predictions = clf.predict(X_cv_scaled)\n",
        "unseen_predictions = clf.predict(X_test_scaled)\n",
        "    \n",
        "#confusion matrices\n",
        "cfm_train = confusion_matrix(y_train_scaled, train_predictions)\n",
        "cfm_test = confusion_matrix(y_cv_scaled, test_predictions)\n",
        "cfm_unseen = confusion_matrix(y_test_scaled, unseen_predictions)\n",
        "    \n",
        "#accuracy scores\n",
        "accs_train = accuracy_score(y_train_scaled, train_predictions)\n",
        "accs_test = accuracy_score(y_cv_scaled, test_predictions)\n",
        "accs_unseen = accuracy_score(y_test_scaled, unseen_predictions)\n",
        "    \n",
        "#F1 scores for each train/test label\n",
        "f1s_train_p1 = f1_score(y_train_scaled, train_predictions, pos_label=1)\n",
        "f1s_train_p0 = f1_score(y_train_scaled, train_predictions, pos_label=0)\n",
        "f1s_test_p1 = f1_score(y_cv_scaled, test_predictions, pos_label=1)\n",
        "f1s_test_p0 = f1_score(y_cv_scaled, test_predictions, pos_label=0)\n",
        "f1s_unseen_p1 = f1_score(y_test_scaled, unseen_predictions, pos_label=1)\n",
        "f1s_unseen_p0 = f1_score(y_test_scaled, unseen_predictions, pos_label=0)\n",
        "    \n",
        "#Area Under the Receiver Operating Characteristic Curve\n",
        "test_ras = roc_auc_score(y_cv_scaled, clf.predict_proba(X_cv_scaled)[:,1])\n",
        "unseen_ras = roc_auc_score(y_test_scaled, clf.predict_proba(X_test_scaled)[:,1])\n",
        "    \n",
        "#best parameters\n",
        "bp = clf.best_params_\n",
        "\n",
        "\n",
        "#storing computed values in results dictionary\n",
        "results_dict = {}\n",
        "results_dict['xgbc_rcv'] = {'classifier': deepcopy(clf),\n",
        "                            'cv_results': df.copy(),\n",
        "                            'cfm_train': cfm_train,\n",
        "                            'cfm_dev': cfm_test,\n",
        "                            'cfm_test': cfm_unseen,\n",
        "                            'train_accuracy': accs_train,\n",
        "                            'dev_accuracy': accs_test,\n",
        "                            'test_accuracy': accs_unseen,\n",
        "                            'train F1-score label 1': f1s_train_p1,\n",
        "                            'train F1-score label 0': f1s_train_p0,\n",
        "                            'dev F1-score label 1': f1s_test_p1,\n",
        "                            'dev F1-score label 0': f1s_test_p0,\n",
        "                            'test F1-score label 1': f1s_unseen_p1,\n",
        "                            'test F1-score label 0': f1s_unseen_p0,\n",
        "                            'dev roc auc score': test_ras,\n",
        "                            'test roc auc score': unseen_ras,\n",
        "                            'best_params': bp}\n"
      ],
      "metadata": {
        "id": "FOJzyAMwK7aF"
      },
      "execution_count": 21,
      "outputs": []
    },
    {
      "cell_type": "markdown",
      "source": [
        "# Predict on test set"
      ],
      "metadata": {
        "id": "fQu5qRds1NHN"
      }
    },
    {
      "cell_type": "code",
      "source": [
        "# Do prediction on train set\n",
        "pred_train = clf.predict(X_train_scaled)\n",
        "#Measuring accuracy on Testing Data\n",
        "from sklearn import metrics\n",
        "print(metrics.classification_report(y_train_scaled, pred_train))\n",
        "print(metrics.confusion_matrix(y_train_scaled, pred_train))"
      ],
      "metadata": {
        "colab": {
          "base_uri": "https://localhost:8080/"
        },
        "id": "sG9LysyReefr",
        "outputId": "5e090fe2-2021-4f48-e359-193c0781562c"
      },
      "execution_count": 22,
      "outputs": [
        {
          "output_type": "stream",
          "name": "stdout",
          "text": [
            "              precision    recall  f1-score   support\n",
            "\n",
            "           0       1.00      1.00      1.00       715\n",
            "           1       1.00      1.00      1.00       694\n",
            "\n",
            "    accuracy                           1.00      1409\n",
            "   macro avg       1.00      1.00      1.00      1409\n",
            "weighted avg       1.00      1.00      1.00      1409\n",
            "\n",
            "[[715   0]\n",
            " [  0 694]]\n"
          ]
        }
      ]
    },
    {
      "cell_type": "code",
      "source": [
        "# Do prediction on test set\n",
        "pred_test = clf.predict(X_test_scaled)\n",
        "#Measuring accuracy on Testing Data\n",
        "from sklearn import metrics\n",
        "print(metrics.classification_report(y_test_scaled, pred_test))\n",
        "print(metrics.confusion_matrix(y_test_scaled, pred_test, labels= list(set(pred_test))))"
      ],
      "metadata": {
        "colab": {
          "base_uri": "https://localhost:8080/"
        },
        "id": "_-xds-ZMefj8",
        "outputId": "39f97481-e778-445a-d677-8e31cab28660"
      },
      "execution_count": 23,
      "outputs": [
        {
          "output_type": "stream",
          "name": "stdout",
          "text": [
            "              precision    recall  f1-score   support\n",
            "\n",
            "           0       0.98      0.98      0.98        84\n",
            "           1       0.98      0.98      0.98        93\n",
            "\n",
            "    accuracy                           0.98       177\n",
            "   macro avg       0.98      0.98      0.98       177\n",
            "weighted avg       0.98      0.98      0.98       177\n",
            "\n",
            "[[82  2]\n",
            " [ 2 91]]\n"
          ]
        }
      ]
    },
    {
      "cell_type": "markdown",
      "source": [
        "I am very satisfied with the above result. The model is able to reach to 98% accuracy on unseen data. Let's see how is the S&P500 stock compare to this result."
      ],
      "metadata": {
        "id": "iZvzCjX1Dvuj"
      }
    },
    {
      "cell_type": "markdown",
      "source": [
        "## Compare to S&P500\n",
        "\n",
        "Perform the same preprocessing and scaling on the sp500 stock data."
      ],
      "metadata": {
        "id": "DpvswT8ODoh1"
      }
    },
    {
      "cell_type": "code",
      "source": [
        "# ^GSPC\n",
        "\n",
        "sp500=pdr.get_data_yahoo('^GSPC',start = '2015-02-28', end = '2022-02-28')\n",
        "sp500=sp500.reset_index()\n",
        "# Convert Date column to datetime\n",
        "sp500.loc[:, 'Date'] = pd.to_datetime(sp500['Date'],format='%Y-%m-%d')\n",
        "# Change all column headings to be lower case, and remove spacing\n",
        "sp500.columns = [str(x).lower().replace(' ', '_') for x in sp500.columns]\n",
        "# Sort by datetime\n",
        "sp500.sort_values(by='date', inplace=True, ascending=True)\n",
        "sp500['ret'] = sp500['adj_close'].pct_change(periods = 1)\n",
        "sp500.dropna(inplace=True)\n",
        "sp500.reset_index(drop=True, inplace=True)\n",
        "sp500['chng'] = sp500['ret'].map(lambda v: 1 if v > 0 else 0)"
      ],
      "metadata": {
        "id": "pjBp3p4I9H90"
      },
      "execution_count": 24,
      "outputs": []
    },
    {
      "cell_type": "code",
      "source": [
        "test_date_only = test[['date']]\n",
        "sp500.loc[:, 'date'] = pd.to_datetime(sp500['date'],format='%Y-%m-%d')\n",
        "sp500 = sp500.merge(test_date_only, how='inner', on = 'date')\n",
        "len(sp500) == len(test_date_only)"
      ],
      "metadata": {
        "colab": {
          "base_uri": "https://localhost:8080/"
        },
        "id": "UfcNrFk69JNm",
        "outputId": "a4e39dea-3d89-45a7-a6a8-649903fb0084"
      },
      "execution_count": 25,
      "outputs": [
        {
          "output_type": "execute_result",
          "data": {
            "text/plain": [
              "True"
            ]
          },
          "metadata": {},
          "execution_count": 25
        }
      ]
    },
    {
      "cell_type": "code",
      "source": [
        "print(metrics.classification_report(y_test_scaled, sp500['chng']))\n",
        "print(metrics.confusion_matrix(y_test_scaled, sp500['chng']))"
      ],
      "metadata": {
        "colab": {
          "base_uri": "https://localhost:8080/"
        },
        "id": "0Vk1oOPIK6Qw",
        "outputId": "befdcc4b-8a9a-4db7-c3a6-76e287673a11"
      },
      "execution_count": 26,
      "outputs": [
        {
          "output_type": "stream",
          "name": "stdout",
          "text": [
            "              precision    recall  f1-score   support\n",
            "\n",
            "           0       0.65      0.62      0.63        84\n",
            "           1       0.67      0.70      0.68        93\n",
            "\n",
            "    accuracy                           0.66       177\n",
            "   macro avg       0.66      0.66      0.66       177\n",
            "weighted avg       0.66      0.66      0.66       177\n",
            "\n",
            "[[52 32]\n",
            " [28 65]]\n"
          ]
        }
      ]
    },
    {
      "cell_type": "code",
      "source": [
        "# Requery Exxon stock data with adjusted closing price since previous this column is replaced by stock price direction\n",
        "df = pdr.get_data_yahoo('XOM',start = '2015-02-28', end = '2022-02-28')\n",
        "df=df.reset_index()\n",
        "df.loc[:, 'Date'] = pd.to_datetime(df['Date'],format='%Y-%m-%d')\n",
        "df.columns = [str(x).lower().replace(' ', '_') for x in df.columns]\n",
        "df.sort_values(by='date', inplace=True, ascending=True)\n",
        "test_close_adj = sp500[['date']].merge(df, how = 'inner', on = 'date')\n",
        "test_scaled_close_adj = scaler.fit_transform(test_close_adj[['adj_close']])\n",
        "test_scaled_close_adj = pd.DataFrame(test_scaled_close_adj, columns=['adj_close'])\n",
        "test_scaled_close_adj['date'] = test_close_adj['date']\n",
        "sp500_scaled = scaler.fit_transform(sp500[['adj_close']])\n",
        "sp500_scaled = pd.DataFrame(sp500_scaled, columns=['adj_close'])\n",
        "sp500_scaled['date'] = sp500['date']"
      ],
      "metadata": {
        "id": "jtMcboIDpKDC"
      },
      "execution_count": 27,
      "outputs": []
    },
    {
      "cell_type": "code",
      "source": [
        "# Plot adjusted close over time for SP500 and Exxon index\n",
        "\n",
        "rcParams['figure.figsize'] = 10, 8 # width 10, height 8\n",
        "\n",
        "ax = sp500_scaled.plot(x='date', y='adj_close', style='y-', grid=True)\n",
        "ax = test_scaled_close_adj.plot(x='date', y='adj_close', style='b-', grid=True, ax=ax)\n",
        "ax.legend(['sp500', 'exxon'])\n",
        "ax.set_xlabel(\"date\")\n",
        "ax.set_ylabel(\"Ajusted closing price scaled\")\n",
        "ax.set_title(\"Both scaled to reveal trend\")"
      ],
      "metadata": {
        "colab": {
          "base_uri": "https://localhost:8080/",
          "height": 506
        },
        "id": "JDLxFr6Xq0Rh",
        "outputId": "a8b9854a-cbe8-4d7d-d318-bf0c52be99e7"
      },
      "execution_count": 28,
      "outputs": [
        {
          "output_type": "execute_result",
          "data": {
            "text/plain": [
              "Text(0.5, 1.0, 'Both scaled to reveal trend')"
            ]
          },
          "metadata": {},
          "execution_count": 28
        },
        {
          "output_type": "display_data",
          "data": {
            "text/plain": [
              "<Figure size 720x576 with 1 Axes>"
            ],
            "image/png": "[encoded data removed]"
          },
          "metadata": {
            "needs_background": "light"
          }
        }
      ]
    },
    {
      "cell_type": "markdown",
      "source": [
        "The Xgboost yields a very good performance, out ranking SP500. "
      ],
      "metadata": {
        "id": "spNwyrp-I4Qu"
      }
    },
    {
      "cell_type": "markdown",
      "source": [
        "# Potential Improvement\n",
        "\n",
        "\n",
        "* Choose longer time span to extend training data size.   \n",
        "* Experience with different rolling lag number N.\n",
        "* Add company fundamental data as new features.\n",
        "* Incorporate daily sentiment data. give each day a sentiment score. This can be done using tweeter text mining and sentiment analysis. \n",
        "* Experiment with different models like LSTM  \n",
        "...\n",
        "\n",
        "\n",
        "\n",
        "\n",
        "\n",
        "https://iopscience.iop.org/article/10.1088/1742-6596/2161/1/012065/pdf\n",
        "sentiment analysis code: https://github.com/rania751/Stock_Market_Prediction_LSTM_Numerical_Textual_Analysis/blob/main/stock-market-prediction-lstm-numerical-textual-ana.ipynb\n"
      ],
      "metadata": {
        "id": "97Z42Fq1ex9G"
      }
    },
    {
      "cell_type": "markdown",
      "source": [
        "# Reference\n",
        "\n",
        "two of my main inspiration projects:\n",
        "1. https://lf0.com/post/xgboost-time-series-classification-trading-strategy/xgboost-time-series-quant-trading-strategy/\n",
        "2. https://github.com/nikkizhao1202/Trading_Strategy_SP500/blob/master/XGBoost/XGBoost.ipynb\n",
        "\n",
        "Other references\n",
        "\n",
        "https://medium.com/auquan/https-medium-com-auquan-machine-learning-techniques-trading-b7120cee4f05\n",
        "\n",
        "https://lf0.com/post/xgboost-time-series-classification-trading-strategy/xgboost-time-series-quant-trading-strategy/\n",
        "https://github.com/nikkizhao1202/Trading_Strategy_SP500/blob/master/XGBoost/XGBoost.ipynb\n",
        "\n",
        "https://escholarship.org/uc/item/0zp9s76c\n"
      ],
      "metadata": {
        "id": "io17pL56L330"
      }
    },
    {
      "cell_type": "code",
      "source": [],
      "metadata": {
        "id": "_9lOnH0dNTqx"
      },
      "execution_count": null,
      "outputs": []
    }
  ]
}